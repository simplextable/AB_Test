{
 "cells": [
  {
   "cell_type": "code",
   "execution_count": 1,
   "id": "733e5279",
   "metadata": {},
   "outputs": [],
   "source": [
    "import numpy as np\n",
    "import pandas as pd\n",
    "import os\n",
    "from sklearn.impute import KNNImputer\n",
    "import matplotlib.pyplot as plt\n",
    "import seaborn as sns\n",
    "import statsmodels.api as sm\n",
    "import scipy.stats as stats"
   ]
  },
  {
   "cell_type": "code",
   "execution_count": 2,
   "id": "117ae713",
   "metadata": {},
   "outputs": [
    {
     "name": "stderr",
     "output_type": "stream",
     "text": [
      "C:\\Users\\TOYGAR\\AppData\\Local\\Temp\\ipykernel_9348\\3777615979.py:1: DeprecationWarning: Importing display from IPython.core.display is deprecated since IPython 7.14, please import from IPython display\n",
      "  from IPython.core.display import display, HTML\n"
     ]
    },
    {
     "data": {
      "text/html": [
       "<style>.container { width:100% !important; }</style>"
      ],
      "text/plain": [
       "<IPython.core.display.HTML object>"
      ]
     },
     "metadata": {},
     "output_type": "display_data"
    }
   ],
   "source": [
    "from IPython.core.display import display, HTML\n",
    "display(HTML(\"<style>.container { width:100% !important; }</style>\"))"
   ]
  },
  {
   "cell_type": "code",
   "execution_count": 4,
   "id": "4d08015d",
   "metadata": {},
   "outputs": [],
   "source": [
    "#### DF CONTROL ##### "
   ]
  },
  {
   "cell_type": "code",
   "execution_count": 3,
   "id": "3d7078e3",
   "metadata": {},
   "outputs": [
    {
     "data": {
      "text/html": [
       "<div>\n",
       "<style scoped>\n",
       "    .dataframe tbody tr th:only-of-type {\n",
       "        vertical-align: middle;\n",
       "    }\n",
       "\n",
       "    .dataframe tbody tr th {\n",
       "        vertical-align: top;\n",
       "    }\n",
       "\n",
       "    .dataframe thead th {\n",
       "        text-align: right;\n",
       "    }\n",
       "</style>\n",
       "<table border=\"1\" class=\"dataframe\">\n",
       "  <thead>\n",
       "    <tr style=\"text-align: right;\">\n",
       "      <th></th>\n",
       "      <th>Campaign Name</th>\n",
       "      <th>Date</th>\n",
       "      <th>Spend [USD]</th>\n",
       "      <th># of Impressions</th>\n",
       "      <th>Reach</th>\n",
       "      <th># of Website Clicks</th>\n",
       "      <th># of Searches</th>\n",
       "      <th># of View Content</th>\n",
       "      <th># of Add to Cart</th>\n",
       "      <th># of Purchase</th>\n",
       "    </tr>\n",
       "  </thead>\n",
       "  <tbody>\n",
       "    <tr>\n",
       "      <th>0</th>\n",
       "      <td>Test Campaign</td>\n",
       "      <td>1.08.2019</td>\n",
       "      <td>3008</td>\n",
       "      <td>39550</td>\n",
       "      <td>35820</td>\n",
       "      <td>3038</td>\n",
       "      <td>1946</td>\n",
       "      <td>1069</td>\n",
       "      <td>894</td>\n",
       "      <td>255</td>\n",
       "    </tr>\n",
       "    <tr>\n",
       "      <th>1</th>\n",
       "      <td>Test Campaign</td>\n",
       "      <td>2.08.2019</td>\n",
       "      <td>2542</td>\n",
       "      <td>100719</td>\n",
       "      <td>91236</td>\n",
       "      <td>4657</td>\n",
       "      <td>2359</td>\n",
       "      <td>1548</td>\n",
       "      <td>879</td>\n",
       "      <td>677</td>\n",
       "    </tr>\n",
       "    <tr>\n",
       "      <th>2</th>\n",
       "      <td>Test Campaign</td>\n",
       "      <td>3.08.2019</td>\n",
       "      <td>2365</td>\n",
       "      <td>70263</td>\n",
       "      <td>45198</td>\n",
       "      <td>7885</td>\n",
       "      <td>2572</td>\n",
       "      <td>2367</td>\n",
       "      <td>1268</td>\n",
       "      <td>578</td>\n",
       "    </tr>\n",
       "    <tr>\n",
       "      <th>3</th>\n",
       "      <td>Test Campaign</td>\n",
       "      <td>4.08.2019</td>\n",
       "      <td>2710</td>\n",
       "      <td>78451</td>\n",
       "      <td>25937</td>\n",
       "      <td>4216</td>\n",
       "      <td>2216</td>\n",
       "      <td>1437</td>\n",
       "      <td>566</td>\n",
       "      <td>340</td>\n",
       "    </tr>\n",
       "    <tr>\n",
       "      <th>4</th>\n",
       "      <td>Test Campaign</td>\n",
       "      <td>5.08.2019</td>\n",
       "      <td>2297</td>\n",
       "      <td>114295</td>\n",
       "      <td>95138</td>\n",
       "      <td>5863</td>\n",
       "      <td>2106</td>\n",
       "      <td>858</td>\n",
       "      <td>956</td>\n",
       "      <td>768</td>\n",
       "    </tr>\n",
       "  </tbody>\n",
       "</table>\n",
       "</div>"
      ],
      "text/plain": [
       "   Campaign Name       Date  Spend [USD]  # of Impressions  Reach  \\\n",
       "0  Test Campaign  1.08.2019         3008             39550  35820   \n",
       "1  Test Campaign  2.08.2019         2542            100719  91236   \n",
       "2  Test Campaign  3.08.2019         2365             70263  45198   \n",
       "3  Test Campaign  4.08.2019         2710             78451  25937   \n",
       "4  Test Campaign  5.08.2019         2297            114295  95138   \n",
       "\n",
       "   # of Website Clicks  # of Searches  # of View Content  # of Add to Cart  \\\n",
       "0                 3038           1946               1069               894   \n",
       "1                 4657           2359               1548               879   \n",
       "2                 7885           2572               2367              1268   \n",
       "3                 4216           2216               1437               566   \n",
       "4                 5863           2106                858               956   \n",
       "\n",
       "   # of Purchase  \n",
       "0            255  \n",
       "1            677  \n",
       "2            578  \n",
       "3            340  \n",
       "4            768  "
      ]
     },
     "execution_count": 3,
     "metadata": {},
     "output_type": "execute_result"
    }
   ],
   "source": [
    "df_test = pd.read_csv('test_group.csv', sep=\";\")\n",
    "df_test.head()"
   ]
  },
  {
   "cell_type": "code",
   "execution_count": 4,
   "id": "aef3ba74",
   "metadata": {},
   "outputs": [
    {
     "data": {
      "text/html": [
       "<div>\n",
       "<style scoped>\n",
       "    .dataframe tbody tr th:only-of-type {\n",
       "        vertical-align: middle;\n",
       "    }\n",
       "\n",
       "    .dataframe tbody tr th {\n",
       "        vertical-align: top;\n",
       "    }\n",
       "\n",
       "    .dataframe thead th {\n",
       "        text-align: right;\n",
       "    }\n",
       "</style>\n",
       "<table border=\"1\" class=\"dataframe\">\n",
       "  <thead>\n",
       "    <tr style=\"text-align: right;\">\n",
       "      <th></th>\n",
       "      <th>Campaign Name</th>\n",
       "      <th>Date</th>\n",
       "      <th>Spend_USD</th>\n",
       "      <th>Number of Impressions</th>\n",
       "      <th>Reach</th>\n",
       "      <th>Number of Website Clicks</th>\n",
       "      <th>Number of Searches</th>\n",
       "      <th>Number of View Content</th>\n",
       "      <th>Number of Add to Cart</th>\n",
       "      <th>Number of Purchase</th>\n",
       "    </tr>\n",
       "  </thead>\n",
       "  <tbody>\n",
       "    <tr>\n",
       "      <th>0</th>\n",
       "      <td>Test Campaign</td>\n",
       "      <td>1.08.2019</td>\n",
       "      <td>3008</td>\n",
       "      <td>39550</td>\n",
       "      <td>35820</td>\n",
       "      <td>3038</td>\n",
       "      <td>1946</td>\n",
       "      <td>1069</td>\n",
       "      <td>894</td>\n",
       "      <td>255</td>\n",
       "    </tr>\n",
       "    <tr>\n",
       "      <th>1</th>\n",
       "      <td>Test Campaign</td>\n",
       "      <td>2.08.2019</td>\n",
       "      <td>2542</td>\n",
       "      <td>100719</td>\n",
       "      <td>91236</td>\n",
       "      <td>4657</td>\n",
       "      <td>2359</td>\n",
       "      <td>1548</td>\n",
       "      <td>879</td>\n",
       "      <td>677</td>\n",
       "    </tr>\n",
       "    <tr>\n",
       "      <th>2</th>\n",
       "      <td>Test Campaign</td>\n",
       "      <td>3.08.2019</td>\n",
       "      <td>2365</td>\n",
       "      <td>70263</td>\n",
       "      <td>45198</td>\n",
       "      <td>7885</td>\n",
       "      <td>2572</td>\n",
       "      <td>2367</td>\n",
       "      <td>1268</td>\n",
       "      <td>578</td>\n",
       "    </tr>\n",
       "    <tr>\n",
       "      <th>3</th>\n",
       "      <td>Test Campaign</td>\n",
       "      <td>4.08.2019</td>\n",
       "      <td>2710</td>\n",
       "      <td>78451</td>\n",
       "      <td>25937</td>\n",
       "      <td>4216</td>\n",
       "      <td>2216</td>\n",
       "      <td>1437</td>\n",
       "      <td>566</td>\n",
       "      <td>340</td>\n",
       "    </tr>\n",
       "    <tr>\n",
       "      <th>4</th>\n",
       "      <td>Test Campaign</td>\n",
       "      <td>5.08.2019</td>\n",
       "      <td>2297</td>\n",
       "      <td>114295</td>\n",
       "      <td>95138</td>\n",
       "      <td>5863</td>\n",
       "      <td>2106</td>\n",
       "      <td>858</td>\n",
       "      <td>956</td>\n",
       "      <td>768</td>\n",
       "    </tr>\n",
       "  </tbody>\n",
       "</table>\n",
       "</div>"
      ],
      "text/plain": [
       "   Campaign Name       Date  Spend_USD  Number of Impressions  Reach  \\\n",
       "0  Test Campaign  1.08.2019       3008                  39550  35820   \n",
       "1  Test Campaign  2.08.2019       2542                 100719  91236   \n",
       "2  Test Campaign  3.08.2019       2365                  70263  45198   \n",
       "3  Test Campaign  4.08.2019       2710                  78451  25937   \n",
       "4  Test Campaign  5.08.2019       2297                 114295  95138   \n",
       "\n",
       "   Number of Website Clicks  Number of Searches  Number of View Content  \\\n",
       "0                      3038                1946                    1069   \n",
       "1                      4657                2359                    1548   \n",
       "2                      7885                2572                    2367   \n",
       "3                      4216                2216                    1437   \n",
       "4                      5863                2106                     858   \n",
       "\n",
       "   Number of Add to Cart  Number of Purchase  \n",
       "0                    894                 255  \n",
       "1                    879                 677  \n",
       "2                   1268                 578  \n",
       "3                    566                 340  \n",
       "4                    956                 768  "
      ]
     },
     "execution_count": 4,
     "metadata": {},
     "output_type": "execute_result"
    }
   ],
   "source": [
    "df_test.rename(columns = {'Spend [USD]':'Spend_USD', '# of Impressions':'Number of Impressions',\n",
    "                        '# of Website Clicks':  'Number of Website Clicks',\n",
    "                        '# of Searches':'Number of Searches', '# of View Content':'Number of View Content',\n",
    "                        '# of Add to Cart':'Number of Add to Cart', '# of Purchase':'Number of Purchase' }, \n",
    "              inplace = True)\n",
    "df_test.head()"
   ]
  },
  {
   "cell_type": "code",
   "execution_count": 5,
   "id": "15dc3345",
   "metadata": {},
   "outputs": [
    {
     "name": "stdout",
     "output_type": "stream",
     "text": [
      "<class 'pandas.core.frame.DataFrame'>\n",
      "RangeIndex: 30 entries, 0 to 29\n",
      "Data columns (total 10 columns):\n",
      " #   Column                    Non-Null Count  Dtype \n",
      "---  ------                    --------------  ----- \n",
      " 0   Campaign Name             30 non-null     object\n",
      " 1   Date                      30 non-null     object\n",
      " 2   Spend_USD                 30 non-null     int64 \n",
      " 3   Number of Impressions     30 non-null     int64 \n",
      " 4   Reach                     30 non-null     int64 \n",
      " 5   Number of Website Clicks  30 non-null     int64 \n",
      " 6   Number of Searches        30 non-null     int64 \n",
      " 7   Number of View Content    30 non-null     int64 \n",
      " 8   Number of Add to Cart     30 non-null     int64 \n",
      " 9   Number of Purchase        30 non-null     int64 \n",
      "dtypes: int64(8), object(2)\n",
      "memory usage: 2.5+ KB\n"
     ]
    }
   ],
   "source": [
    "df_test.info()"
   ]
  },
  {
   "cell_type": "code",
   "execution_count": 7,
   "id": "cede15d6",
   "metadata": {},
   "outputs": [
    {
     "name": "stdout",
     "output_type": "stream",
     "text": [
      "<class 'pandas.core.frame.DataFrame'>\n",
      "RangeIndex: 30 entries, 0 to 29\n",
      "Data columns (total 10 columns):\n",
      " #   Column                    Non-Null Count  Dtype         \n",
      "---  ------                    --------------  -----         \n",
      " 0   Campaign Name             30 non-null     object        \n",
      " 1   Date                      30 non-null     datetime64[ns]\n",
      " 2   Spend_USD                 30 non-null     int64         \n",
      " 3   Number of Impressions     30 non-null     int64         \n",
      " 4   Reach                     30 non-null     int64         \n",
      " 5   Number of Website Clicks  30 non-null     int64         \n",
      " 6   Number of Searches        30 non-null     int64         \n",
      " 7   Number of View Content    30 non-null     int64         \n",
      " 8   Number of Add to Cart     30 non-null     int64         \n",
      " 9   Number of Purchase        30 non-null     int64         \n",
      "dtypes: datetime64[ns](1), int64(8), object(1)\n",
      "memory usage: 2.5+ KB\n"
     ]
    }
   ],
   "source": [
    "#change date datatypes\n",
    "df_test['Date'] = pd.to_datetime(df_test['Date'], format='%d.%m.%Y')\n",
    "df_test.iloc[:,2:10] = df_test.iloc[:,2:10].apply(pd.to_numeric)\n",
    "df_test.info()"
   ]
  },
  {
   "cell_type": "code",
   "execution_count": 8,
   "id": "051d63e6",
   "metadata": {},
   "outputs": [
    {
     "data": {
      "text/html": [
       "<div>\n",
       "<style scoped>\n",
       "    .dataframe tbody tr th:only-of-type {\n",
       "        vertical-align: middle;\n",
       "    }\n",
       "\n",
       "    .dataframe tbody tr th {\n",
       "        vertical-align: top;\n",
       "    }\n",
       "\n",
       "    .dataframe thead th {\n",
       "        text-align: right;\n",
       "    }\n",
       "</style>\n",
       "<table border=\"1\" class=\"dataframe\">\n",
       "  <thead>\n",
       "    <tr style=\"text-align: right;\">\n",
       "      <th></th>\n",
       "      <th>Spend_USD</th>\n",
       "      <th>Number of Impressions</th>\n",
       "      <th>Reach</th>\n",
       "      <th>Number of Website Clicks</th>\n",
       "      <th>Number of Searches</th>\n",
       "      <th>Number of View Content</th>\n",
       "      <th>Number of Add to Cart</th>\n",
       "      <th>Number of Purchase</th>\n",
       "    </tr>\n",
       "  </thead>\n",
       "  <tbody>\n",
       "    <tr>\n",
       "      <th>count</th>\n",
       "      <td>30.000000</td>\n",
       "      <td>30.000000</td>\n",
       "      <td>30.000000</td>\n",
       "      <td>30.000000</td>\n",
       "      <td>30.000000</td>\n",
       "      <td>30.000000</td>\n",
       "      <td>30.000000</td>\n",
       "      <td>30.000000</td>\n",
       "    </tr>\n",
       "    <tr>\n",
       "      <th>mean</th>\n",
       "      <td>2563.066667</td>\n",
       "      <td>74584.800000</td>\n",
       "      <td>53491.566667</td>\n",
       "      <td>6032.333333</td>\n",
       "      <td>2418.966667</td>\n",
       "      <td>1858.000000</td>\n",
       "      <td>881.533333</td>\n",
       "      <td>521.233333</td>\n",
       "    </tr>\n",
       "    <tr>\n",
       "      <th>std</th>\n",
       "      <td>348.687681</td>\n",
       "      <td>32121.377422</td>\n",
       "      <td>28795.775752</td>\n",
       "      <td>1708.567263</td>\n",
       "      <td>388.742312</td>\n",
       "      <td>597.654669</td>\n",
       "      <td>347.584248</td>\n",
       "      <td>211.047745</td>\n",
       "    </tr>\n",
       "    <tr>\n",
       "      <th>min</th>\n",
       "      <td>1968.000000</td>\n",
       "      <td>22521.000000</td>\n",
       "      <td>10598.000000</td>\n",
       "      <td>3038.000000</td>\n",
       "      <td>1854.000000</td>\n",
       "      <td>858.000000</td>\n",
       "      <td>278.000000</td>\n",
       "      <td>238.000000</td>\n",
       "    </tr>\n",
       "    <tr>\n",
       "      <th>25%</th>\n",
       "      <td>2324.500000</td>\n",
       "      <td>47541.250000</td>\n",
       "      <td>31516.250000</td>\n",
       "      <td>4407.000000</td>\n",
       "      <td>2043.000000</td>\n",
       "      <td>1320.000000</td>\n",
       "      <td>582.500000</td>\n",
       "      <td>298.000000</td>\n",
       "    </tr>\n",
       "    <tr>\n",
       "      <th>50%</th>\n",
       "      <td>2584.000000</td>\n",
       "      <td>68853.500000</td>\n",
       "      <td>44219.500000</td>\n",
       "      <td>6242.500000</td>\n",
       "      <td>2395.500000</td>\n",
       "      <td>1881.000000</td>\n",
       "      <td>974.000000</td>\n",
       "      <td>500.000000</td>\n",
       "    </tr>\n",
       "    <tr>\n",
       "      <th>75%</th>\n",
       "      <td>2836.250000</td>\n",
       "      <td>99500.000000</td>\n",
       "      <td>78778.750000</td>\n",
       "      <td>7604.750000</td>\n",
       "      <td>2801.250000</td>\n",
       "      <td>2412.000000</td>\n",
       "      <td>1148.500000</td>\n",
       "      <td>701.000000</td>\n",
       "    </tr>\n",
       "    <tr>\n",
       "      <th>max</th>\n",
       "      <td>3112.000000</td>\n",
       "      <td>133771.000000</td>\n",
       "      <td>109834.000000</td>\n",
       "      <td>8264.000000</td>\n",
       "      <td>2978.000000</td>\n",
       "      <td>2801.000000</td>\n",
       "      <td>1391.000000</td>\n",
       "      <td>890.000000</td>\n",
       "    </tr>\n",
       "  </tbody>\n",
       "</table>\n",
       "</div>"
      ],
      "text/plain": [
       "         Spend_USD  Number of Impressions          Reach  \\\n",
       "count    30.000000              30.000000      30.000000   \n",
       "mean   2563.066667           74584.800000   53491.566667   \n",
       "std     348.687681           32121.377422   28795.775752   \n",
       "min    1968.000000           22521.000000   10598.000000   \n",
       "25%    2324.500000           47541.250000   31516.250000   \n",
       "50%    2584.000000           68853.500000   44219.500000   \n",
       "75%    2836.250000           99500.000000   78778.750000   \n",
       "max    3112.000000          133771.000000  109834.000000   \n",
       "\n",
       "       Number of Website Clicks  Number of Searches  Number of View Content  \\\n",
       "count                 30.000000           30.000000               30.000000   \n",
       "mean                6032.333333         2418.966667             1858.000000   \n",
       "std                 1708.567263          388.742312              597.654669   \n",
       "min                 3038.000000         1854.000000              858.000000   \n",
       "25%                 4407.000000         2043.000000             1320.000000   \n",
       "50%                 6242.500000         2395.500000             1881.000000   \n",
       "75%                 7604.750000         2801.250000             2412.000000   \n",
       "max                 8264.000000         2978.000000             2801.000000   \n",
       "\n",
       "       Number of Add to Cart  Number of Purchase  \n",
       "count              30.000000           30.000000  \n",
       "mean              881.533333          521.233333  \n",
       "std               347.584248          211.047745  \n",
       "min               278.000000          238.000000  \n",
       "25%               582.500000          298.000000  \n",
       "50%               974.000000          500.000000  \n",
       "75%              1148.500000          701.000000  \n",
       "max              1391.000000          890.000000  "
      ]
     },
     "execution_count": 8,
     "metadata": {},
     "output_type": "execute_result"
    }
   ],
   "source": [
    "df_test.describe()"
   ]
  },
  {
   "cell_type": "code",
   "execution_count": 10,
   "id": "6445d5f7",
   "metadata": {},
   "outputs": [],
   "source": [
    "##### DF CONTROL ##### "
   ]
  },
  {
   "cell_type": "code",
   "execution_count": 9,
   "id": "684d8d49",
   "metadata": {},
   "outputs": [
    {
     "data": {
      "text/html": [
       "<div>\n",
       "<style scoped>\n",
       "    .dataframe tbody tr th:only-of-type {\n",
       "        vertical-align: middle;\n",
       "    }\n",
       "\n",
       "    .dataframe tbody tr th {\n",
       "        vertical-align: top;\n",
       "    }\n",
       "\n",
       "    .dataframe thead th {\n",
       "        text-align: right;\n",
       "    }\n",
       "</style>\n",
       "<table border=\"1\" class=\"dataframe\">\n",
       "  <thead>\n",
       "    <tr style=\"text-align: right;\">\n",
       "      <th></th>\n",
       "      <th>Campaign Name</th>\n",
       "      <th>Date</th>\n",
       "      <th>Spend [USD]</th>\n",
       "      <th># of Impressions</th>\n",
       "      <th>Reach</th>\n",
       "      <th># of Website Clicks</th>\n",
       "      <th># of Searches</th>\n",
       "      <th># of View Content</th>\n",
       "      <th># of Add to Cart</th>\n",
       "      <th># of Purchase</th>\n",
       "    </tr>\n",
       "  </thead>\n",
       "  <tbody>\n",
       "    <tr>\n",
       "      <th>0</th>\n",
       "      <td>Control Campaign</td>\n",
       "      <td>1.08.2019</td>\n",
       "      <td>2280</td>\n",
       "      <td>82702.0</td>\n",
       "      <td>56930.0</td>\n",
       "      <td>7016.0</td>\n",
       "      <td>2290.0</td>\n",
       "      <td>2159.0</td>\n",
       "      <td>1819.0</td>\n",
       "      <td>618.0</td>\n",
       "    </tr>\n",
       "    <tr>\n",
       "      <th>1</th>\n",
       "      <td>Control Campaign</td>\n",
       "      <td>2.08.2019</td>\n",
       "      <td>1757</td>\n",
       "      <td>121040.0</td>\n",
       "      <td>102513.0</td>\n",
       "      <td>8110.0</td>\n",
       "      <td>2033.0</td>\n",
       "      <td>1841.0</td>\n",
       "      <td>1219.0</td>\n",
       "      <td>511.0</td>\n",
       "    </tr>\n",
       "    <tr>\n",
       "      <th>2</th>\n",
       "      <td>Control Campaign</td>\n",
       "      <td>3.08.2019</td>\n",
       "      <td>2343</td>\n",
       "      <td>131711.0</td>\n",
       "      <td>110862.0</td>\n",
       "      <td>6508.0</td>\n",
       "      <td>1737.0</td>\n",
       "      <td>1549.0</td>\n",
       "      <td>1134.0</td>\n",
       "      <td>372.0</td>\n",
       "    </tr>\n",
       "    <tr>\n",
       "      <th>3</th>\n",
       "      <td>Control Campaign</td>\n",
       "      <td>4.08.2019</td>\n",
       "      <td>1940</td>\n",
       "      <td>72878.0</td>\n",
       "      <td>61235.0</td>\n",
       "      <td>3065.0</td>\n",
       "      <td>1042.0</td>\n",
       "      <td>982.0</td>\n",
       "      <td>1183.0</td>\n",
       "      <td>340.0</td>\n",
       "    </tr>\n",
       "    <tr>\n",
       "      <th>4</th>\n",
       "      <td>Control Campaign</td>\n",
       "      <td>5.08.2019</td>\n",
       "      <td>1835</td>\n",
       "      <td>NaN</td>\n",
       "      <td>NaN</td>\n",
       "      <td>NaN</td>\n",
       "      <td>NaN</td>\n",
       "      <td>NaN</td>\n",
       "      <td>NaN</td>\n",
       "      <td>NaN</td>\n",
       "    </tr>\n",
       "  </tbody>\n",
       "</table>\n",
       "</div>"
      ],
      "text/plain": [
       "      Campaign Name       Date  Spend [USD]  # of Impressions     Reach  \\\n",
       "0  Control Campaign  1.08.2019         2280           82702.0   56930.0   \n",
       "1  Control Campaign  2.08.2019         1757          121040.0  102513.0   \n",
       "2  Control Campaign  3.08.2019         2343          131711.0  110862.0   \n",
       "3  Control Campaign  4.08.2019         1940           72878.0   61235.0   \n",
       "4  Control Campaign  5.08.2019         1835               NaN       NaN   \n",
       "\n",
       "   # of Website Clicks  # of Searches  # of View Content  # of Add to Cart  \\\n",
       "0               7016.0         2290.0             2159.0            1819.0   \n",
       "1               8110.0         2033.0             1841.0            1219.0   \n",
       "2               6508.0         1737.0             1549.0            1134.0   \n",
       "3               3065.0         1042.0              982.0            1183.0   \n",
       "4                  NaN            NaN                NaN               NaN   \n",
       "\n",
       "   # of Purchase  \n",
       "0          618.0  \n",
       "1          511.0  \n",
       "2          372.0  \n",
       "3          340.0  \n",
       "4            NaN  "
      ]
     },
     "execution_count": 9,
     "metadata": {},
     "output_type": "execute_result"
    }
   ],
   "source": [
    "df_control = pd.read_csv('control_group.csv', sep=\";\")\n",
    "df_control.head()"
   ]
  },
  {
   "cell_type": "code",
   "execution_count": 10,
   "id": "bf6d1d62",
   "metadata": {},
   "outputs": [
    {
     "data": {
      "text/html": [
       "<div>\n",
       "<style scoped>\n",
       "    .dataframe tbody tr th:only-of-type {\n",
       "        vertical-align: middle;\n",
       "    }\n",
       "\n",
       "    .dataframe tbody tr th {\n",
       "        vertical-align: top;\n",
       "    }\n",
       "\n",
       "    .dataframe thead th {\n",
       "        text-align: right;\n",
       "    }\n",
       "</style>\n",
       "<table border=\"1\" class=\"dataframe\">\n",
       "  <thead>\n",
       "    <tr style=\"text-align: right;\">\n",
       "      <th></th>\n",
       "      <th>Campaign Name</th>\n",
       "      <th>Date</th>\n",
       "      <th>Spend_USD</th>\n",
       "      <th>Number of Impressions</th>\n",
       "      <th>Reach</th>\n",
       "      <th>Number of Website Clicks</th>\n",
       "      <th>Number of Searches</th>\n",
       "      <th>Number of View Content</th>\n",
       "      <th>Number of Add to Cart</th>\n",
       "      <th>Number of Purchase</th>\n",
       "    </tr>\n",
       "  </thead>\n",
       "  <tbody>\n",
       "    <tr>\n",
       "      <th>0</th>\n",
       "      <td>Control Campaign</td>\n",
       "      <td>1.08.2019</td>\n",
       "      <td>2280</td>\n",
       "      <td>82702.0</td>\n",
       "      <td>56930.0</td>\n",
       "      <td>7016.0</td>\n",
       "      <td>2290.0</td>\n",
       "      <td>2159.0</td>\n",
       "      <td>1819.0</td>\n",
       "      <td>618.0</td>\n",
       "    </tr>\n",
       "    <tr>\n",
       "      <th>1</th>\n",
       "      <td>Control Campaign</td>\n",
       "      <td>2.08.2019</td>\n",
       "      <td>1757</td>\n",
       "      <td>121040.0</td>\n",
       "      <td>102513.0</td>\n",
       "      <td>8110.0</td>\n",
       "      <td>2033.0</td>\n",
       "      <td>1841.0</td>\n",
       "      <td>1219.0</td>\n",
       "      <td>511.0</td>\n",
       "    </tr>\n",
       "    <tr>\n",
       "      <th>2</th>\n",
       "      <td>Control Campaign</td>\n",
       "      <td>3.08.2019</td>\n",
       "      <td>2343</td>\n",
       "      <td>131711.0</td>\n",
       "      <td>110862.0</td>\n",
       "      <td>6508.0</td>\n",
       "      <td>1737.0</td>\n",
       "      <td>1549.0</td>\n",
       "      <td>1134.0</td>\n",
       "      <td>372.0</td>\n",
       "    </tr>\n",
       "    <tr>\n",
       "      <th>3</th>\n",
       "      <td>Control Campaign</td>\n",
       "      <td>4.08.2019</td>\n",
       "      <td>1940</td>\n",
       "      <td>72878.0</td>\n",
       "      <td>61235.0</td>\n",
       "      <td>3065.0</td>\n",
       "      <td>1042.0</td>\n",
       "      <td>982.0</td>\n",
       "      <td>1183.0</td>\n",
       "      <td>340.0</td>\n",
       "    </tr>\n",
       "    <tr>\n",
       "      <th>4</th>\n",
       "      <td>Control Campaign</td>\n",
       "      <td>5.08.2019</td>\n",
       "      <td>1835</td>\n",
       "      <td>NaN</td>\n",
       "      <td>NaN</td>\n",
       "      <td>NaN</td>\n",
       "      <td>NaN</td>\n",
       "      <td>NaN</td>\n",
       "      <td>NaN</td>\n",
       "      <td>NaN</td>\n",
       "    </tr>\n",
       "  </tbody>\n",
       "</table>\n",
       "</div>"
      ],
      "text/plain": [
       "      Campaign Name       Date  Spend_USD  Number of Impressions     Reach  \\\n",
       "0  Control Campaign  1.08.2019       2280                82702.0   56930.0   \n",
       "1  Control Campaign  2.08.2019       1757               121040.0  102513.0   \n",
       "2  Control Campaign  3.08.2019       2343               131711.0  110862.0   \n",
       "3  Control Campaign  4.08.2019       1940                72878.0   61235.0   \n",
       "4  Control Campaign  5.08.2019       1835                    NaN       NaN   \n",
       "\n",
       "   Number of Website Clicks  Number of Searches  Number of View Content  \\\n",
       "0                    7016.0              2290.0                  2159.0   \n",
       "1                    8110.0              2033.0                  1841.0   \n",
       "2                    6508.0              1737.0                  1549.0   \n",
       "3                    3065.0              1042.0                   982.0   \n",
       "4                       NaN                 NaN                     NaN   \n",
       "\n",
       "   Number of Add to Cart  Number of Purchase  \n",
       "0                 1819.0               618.0  \n",
       "1                 1219.0               511.0  \n",
       "2                 1134.0               372.0  \n",
       "3                 1183.0               340.0  \n",
       "4                    NaN                 NaN  "
      ]
     },
     "execution_count": 10,
     "metadata": {},
     "output_type": "execute_result"
    }
   ],
   "source": [
    "df_control.rename(columns = {'Spend [USD]':'Spend_USD', '# of Impressions':'Number of Impressions',\n",
    "                        '# of Website Clicks':  'Number of Website Clicks',\n",
    "                        '# of Searches':'Number of Searches', '# of View Content':'Number of View Content',\n",
    "                        '# of Add to Cart':'Number of Add to Cart', '# of Purchase':'Number of Purchase' }, \n",
    "              inplace = True)\n",
    "df_control.head()"
   ]
  },
  {
   "cell_type": "code",
   "execution_count": 11,
   "id": "17e0d30a",
   "metadata": {},
   "outputs": [
    {
     "name": "stdout",
     "output_type": "stream",
     "text": [
      "<class 'pandas.core.frame.DataFrame'>\n",
      "RangeIndex: 30 entries, 0 to 29\n",
      "Data columns (total 10 columns):\n",
      " #   Column                    Non-Null Count  Dtype  \n",
      "---  ------                    --------------  -----  \n",
      " 0   Campaign Name             30 non-null     object \n",
      " 1   Date                      30 non-null     object \n",
      " 2   Spend_USD                 30 non-null     int64  \n",
      " 3   Number of Impressions     29 non-null     float64\n",
      " 4   Reach                     29 non-null     float64\n",
      " 5   Number of Website Clicks  29 non-null     float64\n",
      " 6   Number of Searches        29 non-null     float64\n",
      " 7   Number of View Content    29 non-null     float64\n",
      " 8   Number of Add to Cart     29 non-null     float64\n",
      " 9   Number of Purchase        29 non-null     float64\n",
      "dtypes: float64(7), int64(1), object(2)\n",
      "memory usage: 2.5+ KB\n"
     ]
    }
   ],
   "source": [
    "df_control.info()"
   ]
  },
  {
   "cell_type": "code",
   "execution_count": 12,
   "id": "e9935ce9",
   "metadata": {},
   "outputs": [
    {
     "name": "stdout",
     "output_type": "stream",
     "text": [
      "<class 'pandas.core.frame.DataFrame'>\n",
      "RangeIndex: 30 entries, 0 to 29\n",
      "Data columns (total 10 columns):\n",
      " #   Column                    Non-Null Count  Dtype         \n",
      "---  ------                    --------------  -----         \n",
      " 0   Campaign Name             30 non-null     object        \n",
      " 1   Date                      30 non-null     datetime64[ns]\n",
      " 2   Spend_USD                 30 non-null     int64         \n",
      " 3   Number of Impressions     29 non-null     float64       \n",
      " 4   Reach                     29 non-null     float64       \n",
      " 5   Number of Website Clicks  29 non-null     float64       \n",
      " 6   Number of Searches        29 non-null     float64       \n",
      " 7   Number of View Content    29 non-null     float64       \n",
      " 8   Number of Add to Cart     29 non-null     float64       \n",
      " 9   Number of Purchase        29 non-null     float64       \n",
      "dtypes: datetime64[ns](1), float64(7), int64(1), object(1)\n",
      "memory usage: 2.5+ KB\n"
     ]
    }
   ],
   "source": [
    "df_control['Date'] = pd.to_datetime(df_control['Date'], format='%d.%m.%Y')\n",
    "df_control.iloc[:,2:10] = df_control.iloc[:,2:10].apply(pd.to_numeric)\n",
    "df_control.info()"
   ]
  },
  {
   "cell_type": "code",
   "execution_count": 13,
   "id": "8af3d541",
   "metadata": {},
   "outputs": [],
   "source": [
    "#There is a row with missing values. Let's fill the missing values with K-Nearest Neighbor.\n",
    "imputer = KNNImputer(weights='distance')\n",
    "df_control.iloc[:,2:10]=pd.DataFrame(imputer.fit_transform(df_control.iloc[:,2:10]))"
   ]
  },
  {
   "cell_type": "markdown",
   "id": "65b083b3",
   "metadata": {},
   "source": [
    "### Burada mean ile veri doldurmaktansa KNN ile veri doldurulmuş. Bu kısım biraz detaylı olarak bahsedelim. "
   ]
  },
  {
   "cell_type": "code",
   "execution_count": 14,
   "id": "5202c9ff",
   "metadata": {},
   "outputs": [
    {
     "data": {
      "text/html": [
       "<div>\n",
       "<style scoped>\n",
       "    .dataframe tbody tr th:only-of-type {\n",
       "        vertical-align: middle;\n",
       "    }\n",
       "\n",
       "    .dataframe tbody tr th {\n",
       "        vertical-align: top;\n",
       "    }\n",
       "\n",
       "    .dataframe thead th {\n",
       "        text-align: right;\n",
       "    }\n",
       "</style>\n",
       "<table border=\"1\" class=\"dataframe\">\n",
       "  <thead>\n",
       "    <tr style=\"text-align: right;\">\n",
       "      <th></th>\n",
       "      <th>Campaign Name</th>\n",
       "      <th>Date</th>\n",
       "      <th>Spend_USD</th>\n",
       "      <th>Number of Impressions</th>\n",
       "      <th>Reach</th>\n",
       "      <th>Number of Website Clicks</th>\n",
       "      <th>Number of Searches</th>\n",
       "      <th>Number of View Content</th>\n",
       "      <th>Number of Add to Cart</th>\n",
       "      <th>Number of Purchase</th>\n",
       "    </tr>\n",
       "  </thead>\n",
       "  <tbody>\n",
       "    <tr>\n",
       "      <th>0</th>\n",
       "      <td>Control Campaign</td>\n",
       "      <td>2019-08-01</td>\n",
       "      <td>2280.0</td>\n",
       "      <td>82702.000000</td>\n",
       "      <td>56930.000000</td>\n",
       "      <td>7016.000000</td>\n",
       "      <td>2290.000000</td>\n",
       "      <td>2159.000000</td>\n",
       "      <td>1819.00000</td>\n",
       "      <td>618.000000</td>\n",
       "    </tr>\n",
       "    <tr>\n",
       "      <th>1</th>\n",
       "      <td>Control Campaign</td>\n",
       "      <td>2019-08-02</td>\n",
       "      <td>1757.0</td>\n",
       "      <td>121040.000000</td>\n",
       "      <td>102513.000000</td>\n",
       "      <td>8110.000000</td>\n",
       "      <td>2033.000000</td>\n",
       "      <td>1841.000000</td>\n",
       "      <td>1219.00000</td>\n",
       "      <td>511.000000</td>\n",
       "    </tr>\n",
       "    <tr>\n",
       "      <th>2</th>\n",
       "      <td>Control Campaign</td>\n",
       "      <td>2019-08-03</td>\n",
       "      <td>2343.0</td>\n",
       "      <td>131711.000000</td>\n",
       "      <td>110862.000000</td>\n",
       "      <td>6508.000000</td>\n",
       "      <td>1737.000000</td>\n",
       "      <td>1549.000000</td>\n",
       "      <td>1134.00000</td>\n",
       "      <td>372.000000</td>\n",
       "    </tr>\n",
       "    <tr>\n",
       "      <th>3</th>\n",
       "      <td>Control Campaign</td>\n",
       "      <td>2019-08-04</td>\n",
       "      <td>1940.0</td>\n",
       "      <td>72878.000000</td>\n",
       "      <td>61235.000000</td>\n",
       "      <td>3065.000000</td>\n",
       "      <td>1042.000000</td>\n",
       "      <td>982.000000</td>\n",
       "      <td>1183.00000</td>\n",
       "      <td>340.000000</td>\n",
       "    </tr>\n",
       "    <tr>\n",
       "      <th>4</th>\n",
       "      <td>Control Campaign</td>\n",
       "      <td>2019-08-05</td>\n",
       "      <td>1835.0</td>\n",
       "      <td>99328.079583</td>\n",
       "      <td>80183.346166</td>\n",
       "      <td>5733.358353</td>\n",
       "      <td>2147.197568</td>\n",
       "      <td>1943.443727</td>\n",
       "      <td>1363.53056</td>\n",
       "      <td>598.735991</td>\n",
       "    </tr>\n",
       "  </tbody>\n",
       "</table>\n",
       "</div>"
      ],
      "text/plain": [
       "      Campaign Name       Date  Spend_USD  Number of Impressions  \\\n",
       "0  Control Campaign 2019-08-01     2280.0           82702.000000   \n",
       "1  Control Campaign 2019-08-02     1757.0          121040.000000   \n",
       "2  Control Campaign 2019-08-03     2343.0          131711.000000   \n",
       "3  Control Campaign 2019-08-04     1940.0           72878.000000   \n",
       "4  Control Campaign 2019-08-05     1835.0           99328.079583   \n",
       "\n",
       "           Reach  Number of Website Clicks  Number of Searches  \\\n",
       "0   56930.000000               7016.000000         2290.000000   \n",
       "1  102513.000000               8110.000000         2033.000000   \n",
       "2  110862.000000               6508.000000         1737.000000   \n",
       "3   61235.000000               3065.000000         1042.000000   \n",
       "4   80183.346166               5733.358353         2147.197568   \n",
       "\n",
       "   Number of View Content  Number of Add to Cart  Number of Purchase  \n",
       "0             2159.000000             1819.00000          618.000000  \n",
       "1             1841.000000             1219.00000          511.000000  \n",
       "2             1549.000000             1134.00000          372.000000  \n",
       "3              982.000000             1183.00000          340.000000  \n",
       "4             1943.443727             1363.53056          598.735991  "
      ]
     },
     "execution_count": 14,
     "metadata": {},
     "output_type": "execute_result"
    }
   ],
   "source": [
    "df_control.head()"
   ]
  },
  {
   "cell_type": "code",
   "execution_count": 15,
   "id": "80680f4c",
   "metadata": {},
   "outputs": [
    {
     "data": {
      "text/html": [
       "<div>\n",
       "<style scoped>\n",
       "    .dataframe tbody tr th:only-of-type {\n",
       "        vertical-align: middle;\n",
       "    }\n",
       "\n",
       "    .dataframe tbody tr th {\n",
       "        vertical-align: top;\n",
       "    }\n",
       "\n",
       "    .dataframe thead th {\n",
       "        text-align: right;\n",
       "    }\n",
       "</style>\n",
       "<table border=\"1\" class=\"dataframe\">\n",
       "  <thead>\n",
       "    <tr style=\"text-align: right;\">\n",
       "      <th></th>\n",
       "      <th>Spend_USD</th>\n",
       "      <th>Number of Impressions</th>\n",
       "      <th>Reach</th>\n",
       "      <th>Number of Website Clicks</th>\n",
       "      <th>Number of Searches</th>\n",
       "      <th>Number of View Content</th>\n",
       "      <th>Number of Add to Cart</th>\n",
       "      <th>Number of Purchase</th>\n",
       "    </tr>\n",
       "  </thead>\n",
       "  <tbody>\n",
       "    <tr>\n",
       "      <th>count</th>\n",
       "      <td>30.000000</td>\n",
       "      <td>30.000000</td>\n",
       "      <td>30.000000</td>\n",
       "      <td>30.000000</td>\n",
       "      <td>30.000000</td>\n",
       "      <td>30.000000</td>\n",
       "      <td>30.000000</td>\n",
       "      <td>30.000000</td>\n",
       "    </tr>\n",
       "    <tr>\n",
       "      <th>mean</th>\n",
       "      <td>2288.433333</td>\n",
       "      <td>109218.702653</td>\n",
       "      <td>88556.211539</td>\n",
       "      <td>5334.545278</td>\n",
       "      <td>2218.839919</td>\n",
       "      <td>1943.781458</td>\n",
       "      <td>1302.117685</td>\n",
       "      <td>525.324533</td>\n",
       "    </tr>\n",
       "    <tr>\n",
       "      <th>std</th>\n",
       "      <td>367.334451</td>\n",
       "      <td>21393.408777</td>\n",
       "      <td>21510.834457</td>\n",
       "      <td>1728.445776</td>\n",
       "      <td>851.133358</td>\n",
       "      <td>764.021910</td>\n",
       "      <td>400.539188</td>\n",
       "      <td>182.338435</td>\n",
       "    </tr>\n",
       "    <tr>\n",
       "      <th>min</th>\n",
       "      <td>1757.000000</td>\n",
       "      <td>71274.000000</td>\n",
       "      <td>42859.000000</td>\n",
       "      <td>2277.000000</td>\n",
       "      <td>1001.000000</td>\n",
       "      <td>848.000000</td>\n",
       "      <td>442.000000</td>\n",
       "      <td>222.000000</td>\n",
       "    </tr>\n",
       "    <tr>\n",
       "      <th>25%</th>\n",
       "      <td>1945.500000</td>\n",
       "      <td>93853.769896</td>\n",
       "      <td>75300.250000</td>\n",
       "      <td>4122.250000</td>\n",
       "      <td>1629.250000</td>\n",
       "      <td>1249.000000</td>\n",
       "      <td>942.500000</td>\n",
       "      <td>375.500000</td>\n",
       "    </tr>\n",
       "    <tr>\n",
       "      <th>50%</th>\n",
       "      <td>2299.500000</td>\n",
       "      <td>112368.000000</td>\n",
       "      <td>91418.000000</td>\n",
       "      <td>5329.500000</td>\n",
       "      <td>2340.000000</td>\n",
       "      <td>1979.500000</td>\n",
       "      <td>1351.265280</td>\n",
       "      <td>506.000000</td>\n",
       "    </tr>\n",
       "    <tr>\n",
       "      <th>75%</th>\n",
       "      <td>2532.000000</td>\n",
       "      <td>121259.000000</td>\n",
       "      <td>101958.750000</td>\n",
       "      <td>6609.500000</td>\n",
       "      <td>2655.000000</td>\n",
       "      <td>2360.500000</td>\n",
       "      <td>1638.000000</td>\n",
       "      <td>663.250000</td>\n",
       "    </tr>\n",
       "    <tr>\n",
       "      <th>max</th>\n",
       "      <td>3083.000000</td>\n",
       "      <td>145248.000000</td>\n",
       "      <td>127852.000000</td>\n",
       "      <td>8137.000000</td>\n",
       "      <td>4891.000000</td>\n",
       "      <td>4219.000000</td>\n",
       "      <td>1913.000000</td>\n",
       "      <td>800.000000</td>\n",
       "    </tr>\n",
       "  </tbody>\n",
       "</table>\n",
       "</div>"
      ],
      "text/plain": [
       "         Spend_USD  Number of Impressions          Reach  \\\n",
       "count    30.000000              30.000000      30.000000   \n",
       "mean   2288.433333          109218.702653   88556.211539   \n",
       "std     367.334451           21393.408777   21510.834457   \n",
       "min    1757.000000           71274.000000   42859.000000   \n",
       "25%    1945.500000           93853.769896   75300.250000   \n",
       "50%    2299.500000          112368.000000   91418.000000   \n",
       "75%    2532.000000          121259.000000  101958.750000   \n",
       "max    3083.000000          145248.000000  127852.000000   \n",
       "\n",
       "       Number of Website Clicks  Number of Searches  Number of View Content  \\\n",
       "count                 30.000000           30.000000               30.000000   \n",
       "mean                5334.545278         2218.839919             1943.781458   \n",
       "std                 1728.445776          851.133358              764.021910   \n",
       "min                 2277.000000         1001.000000              848.000000   \n",
       "25%                 4122.250000         1629.250000             1249.000000   \n",
       "50%                 5329.500000         2340.000000             1979.500000   \n",
       "75%                 6609.500000         2655.000000             2360.500000   \n",
       "max                 8137.000000         4891.000000             4219.000000   \n",
       "\n",
       "       Number of Add to Cart  Number of Purchase  \n",
       "count              30.000000           30.000000  \n",
       "mean             1302.117685          525.324533  \n",
       "std               400.539188          182.338435  \n",
       "min               442.000000          222.000000  \n",
       "25%               942.500000          375.500000  \n",
       "50%              1351.265280          506.000000  \n",
       "75%              1638.000000          663.250000  \n",
       "max              1913.000000          800.000000  "
      ]
     },
     "execution_count": 15,
     "metadata": {},
     "output_type": "execute_result"
    }
   ],
   "source": [
    "df_control.describe()"
   ]
  },
  {
   "cell_type": "code",
   "execution_count": 16,
   "id": "aec038a3",
   "metadata": {},
   "outputs": [
    {
     "data": {
      "text/html": [
       "<div>\n",
       "<style scoped>\n",
       "    .dataframe tbody tr th:only-of-type {\n",
       "        vertical-align: middle;\n",
       "    }\n",
       "\n",
       "    .dataframe tbody tr th {\n",
       "        vertical-align: top;\n",
       "    }\n",
       "\n",
       "    .dataframe thead th {\n",
       "        text-align: right;\n",
       "    }\n",
       "</style>\n",
       "<table border=\"1\" class=\"dataframe\">\n",
       "  <thead>\n",
       "    <tr style=\"text-align: right;\">\n",
       "      <th></th>\n",
       "      <th>Campaign Name</th>\n",
       "      <th>Date</th>\n",
       "      <th>Spend_USD</th>\n",
       "      <th>Number of Impressions</th>\n",
       "      <th>Reach</th>\n",
       "      <th>Number of Website Clicks</th>\n",
       "      <th>Number of Searches</th>\n",
       "      <th>Number of View Content</th>\n",
       "      <th>Number of Add to Cart</th>\n",
       "      <th>Number of Purchase</th>\n",
       "    </tr>\n",
       "  </thead>\n",
       "  <tbody>\n",
       "    <tr>\n",
       "      <th>0</th>\n",
       "      <td>Control Campaign</td>\n",
       "      <td>2019-08-01</td>\n",
       "      <td>2280.0</td>\n",
       "      <td>82702.000000</td>\n",
       "      <td>56930.000000</td>\n",
       "      <td>7016.000000</td>\n",
       "      <td>2290.000000</td>\n",
       "      <td>2159.000000</td>\n",
       "      <td>1819.00000</td>\n",
       "      <td>618.000000</td>\n",
       "    </tr>\n",
       "    <tr>\n",
       "      <th>1</th>\n",
       "      <td>Control Campaign</td>\n",
       "      <td>2019-08-02</td>\n",
       "      <td>1757.0</td>\n",
       "      <td>121040.000000</td>\n",
       "      <td>102513.000000</td>\n",
       "      <td>8110.000000</td>\n",
       "      <td>2033.000000</td>\n",
       "      <td>1841.000000</td>\n",
       "      <td>1219.00000</td>\n",
       "      <td>511.000000</td>\n",
       "    </tr>\n",
       "    <tr>\n",
       "      <th>2</th>\n",
       "      <td>Control Campaign</td>\n",
       "      <td>2019-08-03</td>\n",
       "      <td>2343.0</td>\n",
       "      <td>131711.000000</td>\n",
       "      <td>110862.000000</td>\n",
       "      <td>6508.000000</td>\n",
       "      <td>1737.000000</td>\n",
       "      <td>1549.000000</td>\n",
       "      <td>1134.00000</td>\n",
       "      <td>372.000000</td>\n",
       "    </tr>\n",
       "    <tr>\n",
       "      <th>3</th>\n",
       "      <td>Control Campaign</td>\n",
       "      <td>2019-08-04</td>\n",
       "      <td>1940.0</td>\n",
       "      <td>72878.000000</td>\n",
       "      <td>61235.000000</td>\n",
       "      <td>3065.000000</td>\n",
       "      <td>1042.000000</td>\n",
       "      <td>982.000000</td>\n",
       "      <td>1183.00000</td>\n",
       "      <td>340.000000</td>\n",
       "    </tr>\n",
       "    <tr>\n",
       "      <th>4</th>\n",
       "      <td>Control Campaign</td>\n",
       "      <td>2019-08-05</td>\n",
       "      <td>1835.0</td>\n",
       "      <td>99328.079583</td>\n",
       "      <td>80183.346166</td>\n",
       "      <td>5733.358353</td>\n",
       "      <td>2147.197568</td>\n",
       "      <td>1943.443727</td>\n",
       "      <td>1363.53056</td>\n",
       "      <td>598.735991</td>\n",
       "    </tr>\n",
       "  </tbody>\n",
       "</table>\n",
       "</div>"
      ],
      "text/plain": [
       "      Campaign Name       Date  Spend_USD  Number of Impressions  \\\n",
       "0  Control Campaign 2019-08-01     2280.0           82702.000000   \n",
       "1  Control Campaign 2019-08-02     1757.0          121040.000000   \n",
       "2  Control Campaign 2019-08-03     2343.0          131711.000000   \n",
       "3  Control Campaign 2019-08-04     1940.0           72878.000000   \n",
       "4  Control Campaign 2019-08-05     1835.0           99328.079583   \n",
       "\n",
       "           Reach  Number of Website Clicks  Number of Searches  \\\n",
       "0   56930.000000               7016.000000         2290.000000   \n",
       "1  102513.000000               8110.000000         2033.000000   \n",
       "2  110862.000000               6508.000000         1737.000000   \n",
       "3   61235.000000               3065.000000         1042.000000   \n",
       "4   80183.346166               5733.358353         2147.197568   \n",
       "\n",
       "   Number of View Content  Number of Add to Cart  Number of Purchase  \n",
       "0             2159.000000             1819.00000          618.000000  \n",
       "1             1841.000000             1219.00000          511.000000  \n",
       "2             1549.000000             1134.00000          372.000000  \n",
       "3              982.000000             1183.00000          340.000000  \n",
       "4             1943.443727             1363.53056          598.735991  "
      ]
     },
     "execution_count": 16,
     "metadata": {},
     "output_type": "execute_result"
    }
   ],
   "source": [
    "df_control.head()"
   ]
  },
  {
   "cell_type": "code",
   "execution_count": 18,
   "id": "67950cca",
   "metadata": {},
   "outputs": [],
   "source": [
    "#Combine two datasets into one and add new features for metrics evaluation\n",
    "df = pd.concat([df_test,df_control])\n",
    "df = df.reset_index()\n",
    "df['USD Spend per Purchase'] = round(df['Spend_USD']/df['Number of Purchase'],2)\n",
    "df['CTR(%)'] = round(df['Number of Website Clicks']*100/df['Number of Impressions'],2)\n",
    "df['Conversion Rate(%)'] = round(df['Number of Purchase']*100/df['Number of Website Clicks'],2)\n",
    "df['Add to Cart Rate(%)'] = round(df['Number of Purchase']*100/df['Number of Add to Cart'],2)"
   ]
  },
  {
   "cell_type": "code",
   "execution_count": 19,
   "id": "31dc9114",
   "metadata": {},
   "outputs": [
    {
     "data": {
      "text/plain": [
       "array(['Test Campaign', 'Control Campaign'], dtype=object)"
      ]
     },
     "execution_count": 19,
     "metadata": {},
     "output_type": "execute_result"
    }
   ],
   "source": [
    "df[\"Campaign Name\"].unique()"
   ]
  },
  {
   "cell_type": "code",
   "execution_count": 20,
   "id": "f986fd70",
   "metadata": {},
   "outputs": [
    {
     "data": {
      "text/html": [
       "<div>\n",
       "<style scoped>\n",
       "    .dataframe tbody tr th:only-of-type {\n",
       "        vertical-align: middle;\n",
       "    }\n",
       "\n",
       "    .dataframe tbody tr th {\n",
       "        vertical-align: top;\n",
       "    }\n",
       "\n",
       "    .dataframe thead th {\n",
       "        text-align: right;\n",
       "    }\n",
       "</style>\n",
       "<table border=\"1\" class=\"dataframe\">\n",
       "  <thead>\n",
       "    <tr style=\"text-align: right;\">\n",
       "      <th></th>\n",
       "      <th>index</th>\n",
       "      <th>Spend_USD</th>\n",
       "      <th>Number of Impressions</th>\n",
       "      <th>Reach</th>\n",
       "      <th>Number of Website Clicks</th>\n",
       "      <th>Number of Searches</th>\n",
       "      <th>Number of View Content</th>\n",
       "      <th>Number of Add to Cart</th>\n",
       "      <th>Number of Purchase</th>\n",
       "      <th>USD Spend per Purchase</th>\n",
       "      <th>CTR(%)</th>\n",
       "      <th>Conversion Rate(%)</th>\n",
       "      <th>Add to Cart Rate(%)</th>\n",
       "    </tr>\n",
       "  </thead>\n",
       "  <tbody>\n",
       "    <tr>\n",
       "      <th>count</th>\n",
       "      <td>60.000000</td>\n",
       "      <td>60.000000</td>\n",
       "      <td>60.000000</td>\n",
       "      <td>60.000000</td>\n",
       "      <td>60.000000</td>\n",
       "      <td>60.000000</td>\n",
       "      <td>60.000000</td>\n",
       "      <td>60.000000</td>\n",
       "      <td>60.000000</td>\n",
       "      <td>60.000000</td>\n",
       "      <td>60.000000</td>\n",
       "      <td>60.000000</td>\n",
       "      <td>60.000000</td>\n",
       "    </tr>\n",
       "    <tr>\n",
       "      <th>mean</th>\n",
       "      <td>14.500000</td>\n",
       "      <td>2425.750000</td>\n",
       "      <td>91901.751326</td>\n",
       "      <td>71023.889103</td>\n",
       "      <td>5683.439306</td>\n",
       "      <td>2318.903293</td>\n",
       "      <td>1900.890729</td>\n",
       "      <td>1091.825509</td>\n",
       "      <td>523.278933</td>\n",
       "      <td>5.443167</td>\n",
       "      <td>7.679833</td>\n",
       "      <td>10.336833</td>\n",
       "      <td>53.725500</td>\n",
       "    </tr>\n",
       "    <tr>\n",
       "      <th>std</th>\n",
       "      <td>8.728484</td>\n",
       "      <td>381.130461</td>\n",
       "      <td>32203.529695</td>\n",
       "      <td>30783.114485</td>\n",
       "      <td>1739.855353</td>\n",
       "      <td>663.729441</td>\n",
       "      <td>681.437585</td>\n",
       "      <td>428.032848</td>\n",
       "      <td>195.548610</td>\n",
       "      <td>2.502151</td>\n",
       "      <td>5.586975</td>\n",
       "      <td>5.760707</td>\n",
       "      <td>23.251312</td>\n",
       "    </tr>\n",
       "    <tr>\n",
       "      <th>min</th>\n",
       "      <td>0.000000</td>\n",
       "      <td>1757.000000</td>\n",
       "      <td>22521.000000</td>\n",
       "      <td>10598.000000</td>\n",
       "      <td>2277.000000</td>\n",
       "      <td>1001.000000</td>\n",
       "      <td>848.000000</td>\n",
       "      <td>278.000000</td>\n",
       "      <td>222.000000</td>\n",
       "      <td>2.250000</td>\n",
       "      <td>1.860000</td>\n",
       "      <td>3.010000</td>\n",
       "      <td>14.340000</td>\n",
       "    </tr>\n",
       "    <tr>\n",
       "      <th>25%</th>\n",
       "      <td>7.000000</td>\n",
       "      <td>2073.750000</td>\n",
       "      <td>69558.250000</td>\n",
       "      <td>43235.500000</td>\n",
       "      <td>4230.750000</td>\n",
       "      <td>1970.750000</td>\n",
       "      <td>1249.000000</td>\n",
       "      <td>863.250000</td>\n",
       "      <td>340.000000</td>\n",
       "      <td>3.467500</td>\n",
       "      <td>4.315000</td>\n",
       "      <td>6.345000</td>\n",
       "      <td>39.425000</td>\n",
       "    </tr>\n",
       "    <tr>\n",
       "      <th>50%</th>\n",
       "      <td>14.500000</td>\n",
       "      <td>2420.500000</td>\n",
       "      <td>97585.539791</td>\n",
       "      <td>77422.000000</td>\n",
       "      <td>5712.179177</td>\n",
       "      <td>2374.500000</td>\n",
       "      <td>1959.221864</td>\n",
       "      <td>1082.500000</td>\n",
       "      <td>506.000000</td>\n",
       "      <td>4.705000</td>\n",
       "      <td>6.075000</td>\n",
       "      <td>8.830000</td>\n",
       "      <td>53.900000</td>\n",
       "    </tr>\n",
       "    <tr>\n",
       "      <th>75%</th>\n",
       "      <td>22.000000</td>\n",
       "      <td>2727.500000</td>\n",
       "      <td>117160.500000</td>\n",
       "      <td>95314.250000</td>\n",
       "      <td>7201.250000</td>\n",
       "      <td>2755.750000</td>\n",
       "      <td>2422.500000</td>\n",
       "      <td>1384.250000</td>\n",
       "      <td>685.000000</td>\n",
       "      <td>7.490000</td>\n",
       "      <td>8.435000</td>\n",
       "      <td>13.025000</td>\n",
       "      <td>65.830000</td>\n",
       "    </tr>\n",
       "    <tr>\n",
       "      <th>max</th>\n",
       "      <td>29.000000</td>\n",
       "      <td>3112.000000</td>\n",
       "      <td>145248.000000</td>\n",
       "      <td>127852.000000</td>\n",
       "      <td>8264.000000</td>\n",
       "      <td>4891.000000</td>\n",
       "      <td>4219.000000</td>\n",
       "      <td>1913.000000</td>\n",
       "      <td>890.000000</td>\n",
       "      <td>12.700000</td>\n",
       "      <td>33.820000</td>\n",
       "      <td>32.240000</td>\n",
       "      <td>151.580000</td>\n",
       "    </tr>\n",
       "  </tbody>\n",
       "</table>\n",
       "</div>"
      ],
      "text/plain": [
       "           index    Spend_USD  Number of Impressions          Reach  \\\n",
       "count  60.000000    60.000000              60.000000      60.000000   \n",
       "mean   14.500000  2425.750000           91901.751326   71023.889103   \n",
       "std     8.728484   381.130461           32203.529695   30783.114485   \n",
       "min     0.000000  1757.000000           22521.000000   10598.000000   \n",
       "25%     7.000000  2073.750000           69558.250000   43235.500000   \n",
       "50%    14.500000  2420.500000           97585.539791   77422.000000   \n",
       "75%    22.000000  2727.500000          117160.500000   95314.250000   \n",
       "max    29.000000  3112.000000          145248.000000  127852.000000   \n",
       "\n",
       "       Number of Website Clicks  Number of Searches  Number of View Content  \\\n",
       "count                 60.000000           60.000000               60.000000   \n",
       "mean                5683.439306         2318.903293             1900.890729   \n",
       "std                 1739.855353          663.729441              681.437585   \n",
       "min                 2277.000000         1001.000000              848.000000   \n",
       "25%                 4230.750000         1970.750000             1249.000000   \n",
       "50%                 5712.179177         2374.500000             1959.221864   \n",
       "75%                 7201.250000         2755.750000             2422.500000   \n",
       "max                 8264.000000         4891.000000             4219.000000   \n",
       "\n",
       "       Number of Add to Cart  Number of Purchase  USD Spend per Purchase  \\\n",
       "count              60.000000           60.000000               60.000000   \n",
       "mean             1091.825509          523.278933                5.443167   \n",
       "std               428.032848          195.548610                2.502151   \n",
       "min               278.000000          222.000000                2.250000   \n",
       "25%               863.250000          340.000000                3.467500   \n",
       "50%              1082.500000          506.000000                4.705000   \n",
       "75%              1384.250000          685.000000                7.490000   \n",
       "max              1913.000000          890.000000               12.700000   \n",
       "\n",
       "          CTR(%)  Conversion Rate(%)  Add to Cart Rate(%)  \n",
       "count  60.000000           60.000000            60.000000  \n",
       "mean    7.679833           10.336833            53.725500  \n",
       "std     5.586975            5.760707            23.251312  \n",
       "min     1.860000            3.010000            14.340000  \n",
       "25%     4.315000            6.345000            39.425000  \n",
       "50%     6.075000            8.830000            53.900000  \n",
       "75%     8.435000           13.025000            65.830000  \n",
       "max    33.820000           32.240000           151.580000  "
      ]
     },
     "execution_count": 20,
     "metadata": {},
     "output_type": "execute_result"
    }
   ],
   "source": [
    "df.describe()"
   ]
  },
  {
   "cell_type": "code",
   "execution_count": 21,
   "id": "ca8b97dd",
   "metadata": {},
   "outputs": [
    {
     "data": {
      "text/html": [
       "<div>\n",
       "<style scoped>\n",
       "    .dataframe tbody tr th:only-of-type {\n",
       "        vertical-align: middle;\n",
       "    }\n",
       "\n",
       "    .dataframe tbody tr th {\n",
       "        vertical-align: top;\n",
       "    }\n",
       "\n",
       "    .dataframe thead th {\n",
       "        text-align: right;\n",
       "    }\n",
       "</style>\n",
       "<table border=\"1\" class=\"dataframe\">\n",
       "  <thead>\n",
       "    <tr style=\"text-align: right;\">\n",
       "      <th></th>\n",
       "      <th>index</th>\n",
       "      <th>Campaign Name</th>\n",
       "      <th>Date</th>\n",
       "      <th>Spend_USD</th>\n",
       "      <th>Number of Impressions</th>\n",
       "      <th>Reach</th>\n",
       "      <th>Number of Website Clicks</th>\n",
       "      <th>Number of Searches</th>\n",
       "      <th>Number of View Content</th>\n",
       "      <th>Number of Add to Cart</th>\n",
       "      <th>Number of Purchase</th>\n",
       "      <th>USD Spend per Purchase</th>\n",
       "      <th>CTR(%)</th>\n",
       "      <th>Conversion Rate(%)</th>\n",
       "      <th>Add to Cart Rate(%)</th>\n",
       "    </tr>\n",
       "  </thead>\n",
       "  <tbody>\n",
       "    <tr>\n",
       "      <th>0</th>\n",
       "      <td>0</td>\n",
       "      <td>Test Campaign</td>\n",
       "      <td>2019-08-01</td>\n",
       "      <td>3008.0</td>\n",
       "      <td>39550.0</td>\n",
       "      <td>35820.0</td>\n",
       "      <td>3038.0</td>\n",
       "      <td>1946.0</td>\n",
       "      <td>1069.0</td>\n",
       "      <td>894.0</td>\n",
       "      <td>255.0</td>\n",
       "      <td>11.80</td>\n",
       "      <td>7.68</td>\n",
       "      <td>8.39</td>\n",
       "      <td>28.52</td>\n",
       "    </tr>\n",
       "    <tr>\n",
       "      <th>1</th>\n",
       "      <td>1</td>\n",
       "      <td>Test Campaign</td>\n",
       "      <td>2019-08-02</td>\n",
       "      <td>2542.0</td>\n",
       "      <td>100719.0</td>\n",
       "      <td>91236.0</td>\n",
       "      <td>4657.0</td>\n",
       "      <td>2359.0</td>\n",
       "      <td>1548.0</td>\n",
       "      <td>879.0</td>\n",
       "      <td>677.0</td>\n",
       "      <td>3.75</td>\n",
       "      <td>4.62</td>\n",
       "      <td>14.54</td>\n",
       "      <td>77.02</td>\n",
       "    </tr>\n",
       "    <tr>\n",
       "      <th>2</th>\n",
       "      <td>2</td>\n",
       "      <td>Test Campaign</td>\n",
       "      <td>2019-08-03</td>\n",
       "      <td>2365.0</td>\n",
       "      <td>70263.0</td>\n",
       "      <td>45198.0</td>\n",
       "      <td>7885.0</td>\n",
       "      <td>2572.0</td>\n",
       "      <td>2367.0</td>\n",
       "      <td>1268.0</td>\n",
       "      <td>578.0</td>\n",
       "      <td>4.09</td>\n",
       "      <td>11.22</td>\n",
       "      <td>7.33</td>\n",
       "      <td>45.58</td>\n",
       "    </tr>\n",
       "    <tr>\n",
       "      <th>3</th>\n",
       "      <td>3</td>\n",
       "      <td>Test Campaign</td>\n",
       "      <td>2019-08-04</td>\n",
       "      <td>2710.0</td>\n",
       "      <td>78451.0</td>\n",
       "      <td>25937.0</td>\n",
       "      <td>4216.0</td>\n",
       "      <td>2216.0</td>\n",
       "      <td>1437.0</td>\n",
       "      <td>566.0</td>\n",
       "      <td>340.0</td>\n",
       "      <td>7.97</td>\n",
       "      <td>5.37</td>\n",
       "      <td>8.06</td>\n",
       "      <td>60.07</td>\n",
       "    </tr>\n",
       "    <tr>\n",
       "      <th>4</th>\n",
       "      <td>4</td>\n",
       "      <td>Test Campaign</td>\n",
       "      <td>2019-08-05</td>\n",
       "      <td>2297.0</td>\n",
       "      <td>114295.0</td>\n",
       "      <td>95138.0</td>\n",
       "      <td>5863.0</td>\n",
       "      <td>2106.0</td>\n",
       "      <td>858.0</td>\n",
       "      <td>956.0</td>\n",
       "      <td>768.0</td>\n",
       "      <td>2.99</td>\n",
       "      <td>5.13</td>\n",
       "      <td>13.10</td>\n",
       "      <td>80.33</td>\n",
       "    </tr>\n",
       "  </tbody>\n",
       "</table>\n",
       "</div>"
      ],
      "text/plain": [
       "   index  Campaign Name       Date  Spend_USD  Number of Impressions    Reach  \\\n",
       "0      0  Test Campaign 2019-08-01     3008.0                39550.0  35820.0   \n",
       "1      1  Test Campaign 2019-08-02     2542.0               100719.0  91236.0   \n",
       "2      2  Test Campaign 2019-08-03     2365.0                70263.0  45198.0   \n",
       "3      3  Test Campaign 2019-08-04     2710.0                78451.0  25937.0   \n",
       "4      4  Test Campaign 2019-08-05     2297.0               114295.0  95138.0   \n",
       "\n",
       "   Number of Website Clicks  Number of Searches  Number of View Content  \\\n",
       "0                    3038.0              1946.0                  1069.0   \n",
       "1                    4657.0              2359.0                  1548.0   \n",
       "2                    7885.0              2572.0                  2367.0   \n",
       "3                    4216.0              2216.0                  1437.0   \n",
       "4                    5863.0              2106.0                   858.0   \n",
       "\n",
       "   Number of Add to Cart  Number of Purchase  USD Spend per Purchase  CTR(%)  \\\n",
       "0                  894.0               255.0                   11.80    7.68   \n",
       "1                  879.0               677.0                    3.75    4.62   \n",
       "2                 1268.0               578.0                    4.09   11.22   \n",
       "3                  566.0               340.0                    7.97    5.37   \n",
       "4                  956.0               768.0                    2.99    5.13   \n",
       "\n",
       "   Conversion Rate(%)  Add to Cart Rate(%)  \n",
       "0                8.39                28.52  \n",
       "1               14.54                77.02  \n",
       "2                7.33                45.58  \n",
       "3                8.06                60.07  \n",
       "4               13.10                80.33  "
      ]
     },
     "execution_count": 21,
     "metadata": {},
     "output_type": "execute_result"
    }
   ],
   "source": [
    "df.head()"
   ]
  },
  {
   "cell_type": "code",
   "execution_count": 22,
   "id": "aeec8e20",
   "metadata": {},
   "outputs": [
    {
     "data": {
      "image/png": "[encoded data removed]",
      "text/plain": [
       "<Figure size 432x432 with 3 Axes>"
      ]
     },
     "metadata": {},
     "output_type": "display_data"
    }
   ],
   "source": [
    "sns.set_theme(style=\"ticks\")\n",
    "g = sns.jointplot(\n",
    "    data=df,\n",
    "    x=\"CTR(%)\", y=\"Conversion Rate(%)\", hue=\"Campaign Name\",\n",
    "    kind=\"scatter\",\n",
    ")\n",
    "plt.show()"
   ]
  },
  {
   "cell_type": "code",
   "execution_count": null,
   "id": "7d692660",
   "metadata": {},
   "outputs": [],
   "source": [
    "# CTR= Number of Website Clicks / Number of Impressions \n",
    "# Conversion rate = yapılan satış / websitesi klik sayısı (ziyaret başına satınalınan ürün sayısı) ziyaret başın ayapılan ticari işlem -------Number of Purchase']*100/df['Number of Website Clicks'\n",
    "# control grubu klik başına yapılan ortalama ticari işlemde daha başarılıyken test grubu reklam başına websitesine erişimde daha başarılı. "
   ]
  },
  {
   "cell_type": "code",
   "execution_count": 55,
   "id": "697c8a0f",
   "metadata": {},
   "outputs": [
    {
     "data": {
      "image/png": "[encoded data removed]",
      "text/plain": [
       "<Figure size 432x432 with 3 Axes>"
      ]
     },
     "metadata": {},
     "output_type": "display_data"
    }
   ],
   "source": [
    "sns.set_theme(style=\"ticks\")\n",
    "g = sns.jointplot(\n",
    "    data=df,\n",
    "    x=\"Number of Website Clicks\", y=\"Number of Purchase\", hue=\"Campaign Name\",\n",
    "    kind=\"scatter\",\n",
    ")\n",
    "plt.show()"
   ]
  },
  {
   "cell_type": "code",
   "execution_count": null,
   "id": "64629b5b",
   "metadata": {},
   "outputs": [],
   "source": [
    "# yapılan satış işlemi sayısı vs websitesi ziyaret sayısı\n",
    "# puchase: yapılan ticari işlem sayısı\n",
    "# dağılım eşit gibi gröünüyor test ve kontrol grupları için, bir ayrışma görünmüyor"
   ]
  },
  {
   "cell_type": "code",
   "execution_count": 56,
   "id": "ace8a762",
   "metadata": {},
   "outputs": [
    {
     "data": {
      "image/png": "[encoded data removed]",
      "text/plain": [
       "<Figure size 432x432 with 3 Axes>"
      ]
     },
     "metadata": {},
     "output_type": "display_data"
    }
   ],
   "source": [
    "sns.set_theme(style=\"ticks\")\n",
    "g = sns.jointplot(\n",
    "    data=df,\n",
    "    x=\"Number of Add to Cart\", y=\"Number of Purchase\", hue=\"Campaign Name\",\n",
    "    kind=\"scatter\",\n",
    ")\n",
    "plt.show()"
   ]
  },
  {
   "cell_type": "code",
   "execution_count": null,
   "id": "b1e9a595",
   "metadata": {},
   "outputs": [],
   "source": [
    "# kontrol grubunda yapılan ticari işlem başına alınan ürün sayısı daha fazladır. "
   ]
  },
  {
   "cell_type": "code",
   "execution_count": 57,
   "id": "871488f1",
   "metadata": {},
   "outputs": [
    {
     "data": {
      "image/png": "[encoded data removed]",
      "text/plain": [
       "<Figure size 432x432 with 3 Axes>"
      ]
     },
     "metadata": {},
     "output_type": "display_data"
    }
   ],
   "source": [
    "sns.set_theme(style=\"ticks\")\n",
    "g = sns.jointplot(\n",
    "    data=df,\n",
    "    x=\"Spend_USD\", y=\"USD Spend per Purchase\", hue=\"Campaign Name\",\n",
    "    kind=\"scatter\",\n",
    ")\n",
    "plt.show()"
   ]
  },
  {
   "cell_type": "code",
   "execution_count": null,
   "id": "bc5d0887",
   "metadata": {},
   "outputs": [],
   "source": [
    "# gün başına (günlük) toplam harcanan USD vs satınalma işlemi başına harcanan USD \n",
    "# test grubu daha pahalı ticari işlemler yapmış control grubuna göre. \n"
   ]
  },
  {
   "cell_type": "code",
   "execution_count": 58,
   "id": "bcdd0a7c",
   "metadata": {},
   "outputs": [
    {
     "data": {
      "image/png": "[encoded data removed]",
      "text/plain": [
       "<Figure size 432x432 with 3 Axes>"
      ]
     },
     "metadata": {},
     "output_type": "display_data"
    }
   ],
   "source": [
    "sns.set_theme(style=\"ticks\")\n",
    "g = sns.jointplot(\n",
    "    data=df,\n",
    "    x=\"Number of Impressions\", y=\"Reach\", hue=\"Campaign Name\",\n",
    "    kind=\"scatter\",\n",
    ")\n",
    "plt.show()"
   ]
  },
  {
   "cell_type": "code",
   "execution_count": null,
   "id": "daf57021",
   "metadata": {},
   "outputs": [],
   "source": [
    "# reklamın tüketiciye ulaşma sayısı vs reklama maruz (reklamı görme) kalma sayısı\n",
    "#kontrol grubunda hem impression hem de reach sayısı daha fazla comparing test group."
   ]
  },
  {
   "cell_type": "code",
   "execution_count": 59,
   "id": "4e51704e",
   "metadata": {},
   "outputs": [
    {
     "data": {
      "text/html": [
       "<div>\n",
       "<style scoped>\n",
       "    .dataframe tbody tr th:only-of-type {\n",
       "        vertical-align: middle;\n",
       "    }\n",
       "\n",
       "    .dataframe tbody tr th {\n",
       "        vertical-align: top;\n",
       "    }\n",
       "\n",
       "    .dataframe thead th {\n",
       "        text-align: right;\n",
       "    }\n",
       "</style>\n",
       "<table border=\"1\" class=\"dataframe\">\n",
       "  <thead>\n",
       "    <tr style=\"text-align: right;\">\n",
       "      <th></th>\n",
       "      <th>Campaign Name</th>\n",
       "      <th>Spend_USD</th>\n",
       "    </tr>\n",
       "  </thead>\n",
       "  <tbody>\n",
       "    <tr>\n",
       "      <th>0</th>\n",
       "      <td>Control Campaign</td>\n",
       "      <td>68653.0</td>\n",
       "    </tr>\n",
       "    <tr>\n",
       "      <th>1</th>\n",
       "      <td>Test Campaign</td>\n",
       "      <td>76892.0</td>\n",
       "    </tr>\n",
       "  </tbody>\n",
       "</table>\n",
       "</div>"
      ],
      "text/plain": [
       "      Campaign Name  Spend_USD\n",
       "0  Control Campaign    68653.0\n",
       "1     Test Campaign    76892.0"
      ]
     },
     "execution_count": 59,
     "metadata": {},
     "output_type": "execute_result"
    }
   ],
   "source": [
    "total_spend = df.groupby(['Campaign Name'])['Spend_USD'].sum().reset_index()\n",
    "total_spend\n"
   ]
  },
  {
   "cell_type": "code",
   "execution_count": 79,
   "id": "7b00a2ff",
   "metadata": {},
   "outputs": [
    {
     "data": {
      "text/plain": [
       "0.12000932224374754"
      ]
     },
     "execution_count": 79,
     "metadata": {},
     "output_type": "execute_result"
    }
   ],
   "source": [
    "total_spend_uplift = (76892-68653)/68653\n",
    "total_spend_uplift"
   ]
  },
  {
   "cell_type": "code",
   "execution_count": null,
   "id": "ee53ed0a",
   "metadata": {},
   "outputs": [],
   "source": [
    "#test grubunun total harcanan usd miktarı 12% daha fazla"
   ]
  },
  {
   "cell_type": "code",
   "execution_count": 73,
   "id": "18b7d915",
   "metadata": {},
   "outputs": [
    {
     "data": {
      "image/png": "[encoded data removed]",
      "text/plain": [
       "<Figure size 432x432 with 1 Axes>"
      ]
     },
     "metadata": {},
     "output_type": "display_data"
    }
   ],
   "source": [
    "fig = plt.figure(figsize = (6, 6))\n",
    "plt.bar(total_spend['Campaign Name'], total_spend['Spend_USD'], width = 0.7)\n",
    "plt.xlabel(\"Campaign Name\", fontdict = {'fontsize' : 15})\n",
    "plt.ylabel(\"Total USD Spend\",fontdict = {'fontsize' : 15})\n",
    "plt.title(\"Total Spend by Group\", fontdict = {'fontsize' : 20})\n",
    "plt.show()"
   ]
  },
  {
   "cell_type": "code",
   "execution_count": 74,
   "id": "ecfd11d2",
   "metadata": {},
   "outputs": [
    {
     "data": {
      "text/html": [
       "<div>\n",
       "<style scoped>\n",
       "    .dataframe tbody tr th:only-of-type {\n",
       "        vertical-align: middle;\n",
       "    }\n",
       "\n",
       "    .dataframe tbody tr th {\n",
       "        vertical-align: top;\n",
       "    }\n",
       "\n",
       "    .dataframe thead th {\n",
       "        text-align: right;\n",
       "    }\n",
       "</style>\n",
       "<table border=\"1\" class=\"dataframe\">\n",
       "  <thead>\n",
       "    <tr style=\"text-align: right;\">\n",
       "      <th></th>\n",
       "      <th>Campaign Name</th>\n",
       "      <th>USD Spend per Purchase</th>\n",
       "    </tr>\n",
       "  </thead>\n",
       "  <tbody>\n",
       "    <tr>\n",
       "      <th>0</th>\n",
       "      <td>Control Campaign</td>\n",
       "      <td>4.986333</td>\n",
       "    </tr>\n",
       "    <tr>\n",
       "      <th>1</th>\n",
       "      <td>Test Campaign</td>\n",
       "      <td>5.900000</td>\n",
       "    </tr>\n",
       "  </tbody>\n",
       "</table>\n",
       "</div>"
      ],
      "text/plain": [
       "      Campaign Name  USD Spend per Purchase\n",
       "0  Control Campaign                4.986333\n",
       "1     Test Campaign                5.900000"
      ]
     },
     "execution_count": 74,
     "metadata": {},
     "output_type": "execute_result"
    }
   ],
   "source": [
    "spend_per_purchase = df.groupby(['Campaign Name'])['USD Spend per Purchase'].mean().reset_index()\n",
    "spend_per_purchase"
   ]
  },
  {
   "cell_type": "code",
   "execution_count": 31,
   "id": "932a68d5",
   "metadata": {},
   "outputs": [],
   "source": [
    "# ticari işlem başına harcanan USD. \n",
    "# Grafik eklenecek.\n",
    "# Total spend USD önemli fakat operasyon giderlerini de düşündüğümüzde tek seferde fazla ya da pahalı ürün satabilmek önmeli"
   ]
  },
  {
   "cell_type": "code",
   "execution_count": 77,
   "id": "79571b44",
   "metadata": {},
   "outputs": [
    {
     "data": {
      "image/png": "[encoded data removed]",
      "text/plain": [
       "<Figure size 432x432 with 1 Axes>"
      ]
     },
     "metadata": {},
     "output_type": "display_data"
    }
   ],
   "source": [
    "fig = plt.figure(figsize = (6, 6))\n",
    "plt.bar(spend_per_purchase['Campaign Name'], spend_per_purchase['USD Spend per Purchase'], width = 0.7)\n",
    "plt.xlabel(\"Campaign Name\", fontdict = {'fontsize' : 15})\n",
    "plt.ylabel(\"USD Spend per Purchase\",fontdict = {'fontsize' : 15})\n",
    "plt.title(\"USD Spend per Purchase by Group\", fontdict = {'fontsize' : 20})\n",
    "plt.show()"
   ]
  },
  {
   "cell_type": "code",
   "execution_count": 78,
   "id": "ad3084e1",
   "metadata": {},
   "outputs": [
    {
     "data": {
      "text/plain": [
       "0.1832342525057994"
      ]
     },
     "execution_count": 78,
     "metadata": {},
     "output_type": "execute_result"
    }
   ],
   "source": [
    "spend_per_purchase_uplift = (5.900000-4.986333)/4.986333\n",
    "spend_per_purchase_uplift"
   ]
  },
  {
   "cell_type": "code",
   "execution_count": 33,
   "id": "0fd18e7b",
   "metadata": {},
   "outputs": [],
   "source": [
    "#spend_per_purchase_uplift % artış mikatrı"
   ]
  },
  {
   "cell_type": "code",
   "execution_count": 84,
   "id": "6f1c55b8",
   "metadata": {},
   "outputs": [
    {
     "data": {
      "image/png": "[encoded data removed]",
      "text/plain": [
       "<Figure size 576x432 with 1 Axes>"
      ]
     },
     "metadata": {},
     "output_type": "display_data"
    }
   ],
   "source": [
    "fig = plt.figure(figsize = (8,6))\n",
    "plt.bar(spend_per_purchase['Campaign Name'], spend_per_purchase['USD Spend per Purchase'], width = 0.7)\n",
    "plt.xlabel(\"Campaign Name\", fontdict = {'fontsize' : 15})\n",
    "plt.ylabel(\"Average USD Spend per Purchase\", fontdict = {'fontsize' : 15})\n",
    "plt.title(\"Average USD Spend per Purchase by Group\", fontdict = {'fontsize' : 20})\n",
    "plt.show()"
   ]
  },
  {
   "cell_type": "code",
   "execution_count": 35,
   "id": "6a756797",
   "metadata": {},
   "outputs": [],
   "source": [
    "#ticari işlem başına ortalamam harcanan USD \n",
    "#grafik düzeltilecek"
   ]
  },
  {
   "cell_type": "code",
   "execution_count": 36,
   "id": "56779d63",
   "metadata": {},
   "outputs": [
    {
     "data": {
      "text/html": [
       "<div>\n",
       "<style scoped>\n",
       "    .dataframe tbody tr th:only-of-type {\n",
       "        vertical-align: middle;\n",
       "    }\n",
       "\n",
       "    .dataframe tbody tr th {\n",
       "        vertical-align: top;\n",
       "    }\n",
       "\n",
       "    .dataframe thead th {\n",
       "        text-align: right;\n",
       "    }\n",
       "</style>\n",
       "<table border=\"1\" class=\"dataframe\">\n",
       "  <thead>\n",
       "    <tr style=\"text-align: right;\">\n",
       "      <th></th>\n",
       "      <th>Campaign Name</th>\n",
       "      <th>Number of Purchase</th>\n",
       "    </tr>\n",
       "  </thead>\n",
       "  <tbody>\n",
       "    <tr>\n",
       "      <th>0</th>\n",
       "      <td>Control Campaign</td>\n",
       "      <td>15759.735991</td>\n",
       "    </tr>\n",
       "    <tr>\n",
       "      <th>1</th>\n",
       "      <td>Test Campaign</td>\n",
       "      <td>15637.000000</td>\n",
       "    </tr>\n",
       "  </tbody>\n",
       "</table>\n",
       "</div>"
      ],
      "text/plain": [
       "      Campaign Name  Number of Purchase\n",
       "0  Control Campaign        15759.735991\n",
       "1     Test Campaign        15637.000000"
      ]
     },
     "execution_count": 36,
     "metadata": {},
     "output_type": "execute_result"
    }
   ],
   "source": [
    "num_of_purchase = df.groupby(['Campaign Name'])['Number of Purchase'].sum().reset_index()\n",
    "num_of_purchase"
   ]
  },
  {
   "cell_type": "code",
   "execution_count": 37,
   "id": "495c2f44",
   "metadata": {},
   "outputs": [],
   "source": [
    "#grafik eklenecek\n",
    "#ticari işlem sayısı düşmesine rağmen bir satın alımda daha çok ürün almışlar ya da satılan ürün skalası değişmiş olabilir.\n",
    "#charta eklenen ürün sayısına bakılarak bu anlaşılaiblir."
   ]
  },
  {
   "cell_type": "code",
   "execution_count": 38,
   "id": "fc5d2e5f",
   "metadata": {},
   "outputs": [
    {
     "data": {
      "text/html": [
       "<div>\n",
       "<style scoped>\n",
       "    .dataframe tbody tr th:only-of-type {\n",
       "        vertical-align: middle;\n",
       "    }\n",
       "\n",
       "    .dataframe tbody tr th {\n",
       "        vertical-align: top;\n",
       "    }\n",
       "\n",
       "    .dataframe thead th {\n",
       "        text-align: right;\n",
       "    }\n",
       "</style>\n",
       "<table border=\"1\" class=\"dataframe\">\n",
       "  <thead>\n",
       "    <tr style=\"text-align: right;\">\n",
       "      <th></th>\n",
       "      <th>Campaign Name</th>\n",
       "      <th>Number of Add to Cart</th>\n",
       "    </tr>\n",
       "  </thead>\n",
       "  <tbody>\n",
       "    <tr>\n",
       "      <th>0</th>\n",
       "      <td>Control Campaign</td>\n",
       "      <td>39063.53056</td>\n",
       "    </tr>\n",
       "    <tr>\n",
       "      <th>1</th>\n",
       "      <td>Test Campaign</td>\n",
       "      <td>26446.00000</td>\n",
       "    </tr>\n",
       "  </tbody>\n",
       "</table>\n",
       "</div>"
      ],
      "text/plain": [
       "      Campaign Name  Number of Add to Cart\n",
       "0  Control Campaign            39063.53056\n",
       "1     Test Campaign            26446.00000"
      ]
     },
     "execution_count": 38,
     "metadata": {},
     "output_type": "execute_result"
    }
   ],
   "source": [
    "num_of_add_cart = df.groupby(['Campaign Name'])['Number of Add to Cart'].sum().reset_index()\n",
    "num_of_add_cart"
   ]
  },
  {
   "cell_type": "code",
   "execution_count": 39,
   "id": "5413beb6",
   "metadata": {},
   "outputs": [],
   "source": [
    "#test grubunda carta çok daha az ürün eklenmiş. ürün skalası değişmiş olabilir ya da test grubunda carta eklenen ürünler daha az remove edilmiş olabilir."
   ]
  },
  {
   "cell_type": "code",
   "execution_count": 40,
   "id": "dcfd81d0",
   "metadata": {},
   "outputs": [
    {
     "data": {
      "image/png": "[encoded data removed]",
      "text/plain": [
       "<Figure size 432x432 with 1 Axes>"
      ]
     },
     "metadata": {},
     "output_type": "display_data"
    }
   ],
   "source": [
    "sns.set_theme(style=\"whitegrid\")\n",
    "g = sns.catplot(\n",
    "    data=df, kind=\"bar\",x=\"Campaign Name\",\n",
    "    y=\"Conversion Rate(%)\",\n",
    "    ci=\"sd\", palette=\"dark\", alpha=.6, height=6\n",
    ")\n",
    "g.despine(left=True)\n",
    "g.set_axis_labels(\"\", \"Conversion Rate(%)\")\n",
    "plt.title('Conversion Rate by Group', fontdict = {'fontsize' : 20})\n",
    "plt.show()"
   ]
  },
  {
   "cell_type": "code",
   "execution_count": 41,
   "id": "f8ececaa",
   "metadata": {},
   "outputs": [
    {
     "data": {
      "text/html": [
       "<div>\n",
       "<style scoped>\n",
       "    .dataframe tbody tr th:only-of-type {\n",
       "        vertical-align: middle;\n",
       "    }\n",
       "\n",
       "    .dataframe tbody tr th {\n",
       "        vertical-align: top;\n",
       "    }\n",
       "\n",
       "    .dataframe thead th {\n",
       "        text-align: right;\n",
       "    }\n",
       "</style>\n",
       "<table border=\"1\" class=\"dataframe\">\n",
       "  <thead>\n",
       "    <tr style=\"text-align: right;\">\n",
       "      <th></th>\n",
       "      <th>Campaign Name</th>\n",
       "      <th>Conversion Rate(%)</th>\n",
       "    </tr>\n",
       "  </thead>\n",
       "  <tbody>\n",
       "    <tr>\n",
       "      <th>0</th>\n",
       "      <td>Control Campaign</td>\n",
       "      <td>11.443000</td>\n",
       "    </tr>\n",
       "    <tr>\n",
       "      <th>1</th>\n",
       "      <td>Test Campaign</td>\n",
       "      <td>9.230667</td>\n",
       "    </tr>\n",
       "  </tbody>\n",
       "</table>\n",
       "</div>"
      ],
      "text/plain": [
       "      Campaign Name  Conversion Rate(%)\n",
       "0  Control Campaign           11.443000\n",
       "1     Test Campaign            9.230667"
      ]
     },
     "execution_count": 41,
     "metadata": {},
     "output_type": "execute_result"
    }
   ],
   "source": [
    "conversion_rate = df.groupby(['Campaign Name'])['Conversion Rate(%)'].mean().reset_index()\n",
    "conversion_rate"
   ]
  },
  {
   "cell_type": "code",
   "execution_count": 42,
   "id": "af74fb85",
   "metadata": {},
   "outputs": [],
   "source": [
    "#grafiği box plota çevirebiliriz."
   ]
  },
  {
   "cell_type": "code",
   "execution_count": 43,
   "id": "28af3088",
   "metadata": {},
   "outputs": [
    {
     "data": {
      "image/png": "[encoded data removed]",
      "text/plain": [
       "<Figure size 432x432 with 1 Axes>"
      ]
     },
     "metadata": {},
     "output_type": "display_data"
    }
   ],
   "source": [
    "sns.set_theme(style=\"whitegrid\")\n",
    "g = sns.catplot(\n",
    "    data=df, kind=\"bar\",x=\"Campaign Name\",\n",
    "    y=\"CTR(%)\",\n",
    "    ci=\"sd\", palette=\"dark\", alpha=.6, height=6\n",
    ")\n",
    "g.despine(left=True)\n",
    "g.set_axis_labels(\"\", \"CTR(%)\")\n",
    "plt.title('CTR by Group', fontdict = {'fontsize' : 20})\n",
    "plt.show()"
   ]
  },
  {
   "cell_type": "code",
   "execution_count": 44,
   "id": "2c32ab26",
   "metadata": {},
   "outputs": [],
   "source": [
    "#hedef kitleye yönelik reklam sunulmuş olabilir ya da reklam daha çekici hale getirilmiş (reklam içeriği değiştirilmiş) olabilir."
   ]
  },
  {
   "cell_type": "code",
   "execution_count": 45,
   "id": "7afcc503",
   "metadata": {},
   "outputs": [
    {
     "data": {
      "image/png": "[encoded data removed]",
      "text/plain": [
       "<Figure size 432x432 with 1 Axes>"
      ]
     },
     "metadata": {},
     "output_type": "display_data"
    }
   ],
   "source": [
    "sns.set_theme(style=\"whitegrid\")\n",
    "g = sns.catplot(\n",
    "    data=df, kind=\"bar\",x=\"Campaign Name\",\n",
    "    y=\"Number of Impressions\",\n",
    "    ci=\"sd\", palette=\"dark\", alpha=.6, height=6\n",
    ")\n",
    "g.despine(left=True)\n",
    "g.set_axis_labels(\"\", \"Number of Impressions\")\n",
    "plt.title('Number of Impressions by Group', fontdict = {'fontsize' : 20})\n",
    "plt.show()"
   ]
  },
  {
   "cell_type": "code",
   "execution_count": 46,
   "id": "779afdc1",
   "metadata": {},
   "outputs": [],
   "source": [
    "#Reklamın kullanıcıların ekranına düşme sayısı"
   ]
  },
  {
   "cell_type": "code",
   "execution_count": 47,
   "id": "b424cced",
   "metadata": {},
   "outputs": [
    {
     "data": {
      "image/png": "[encoded data removed]",
      "text/plain": [
       "<Figure size 432x432 with 1 Axes>"
      ]
     },
     "metadata": {},
     "output_type": "display_data"
    }
   ],
   "source": [
    "sns.set_theme(style=\"whitegrid\")\n",
    "g = sns.catplot(\n",
    "    data=df, kind=\"bar\",x=\"Campaign Name\",\n",
    "    y=\"Reach\",\n",
    "    ci=\"sd\", palette=\"dark\", alpha=.6, height=6\n",
    ")\n",
    "g.despine(left=True)\n",
    "g.set_axis_labels(\"\", \"Number of Reach\")\n",
    "plt.title('Number of Reach by Group', fontdict = {'fontsize' : 20})\n",
    "plt.show()"
   ]
  },
  {
   "cell_type": "code",
   "execution_count": 48,
   "id": "d3c93935",
   "metadata": {},
   "outputs": [],
   "source": [
    "#Unique people who saw an ad "
   ]
  },
  {
   "cell_type": "code",
   "execution_count": 49,
   "id": "8b776f86",
   "metadata": {},
   "outputs": [],
   "source": [
    "#AB Testi"
   ]
  },
  {
   "cell_type": "code",
   "execution_count": 45,
   "id": "02a386b8",
   "metadata": {},
   "outputs": [],
   "source": [
    "df_2 = df.copy()\n",
    "df_2 = df_2.drop(['index','Date'], axis=1)\n",
    "df_2['Campaign Name'] = pd.get_dummies(df_2['Campaign Name'], drop_first=True)\n",
    "df_2 = df_2.reset_index(drop=True)\n",
    "test_g = df_2[df_2['Campaign Name']==1]\n",
    "control_g = df_2[df_2['Campaign Name']==0]"
   ]
  },
  {
   "cell_type": "code",
   "execution_count": 28,
   "id": "f3eae9a0",
   "metadata": {},
   "outputs": [],
   "source": [
    "#campaign name kısmını test ->1, control-> 0 olarak değiştirmiş olduk. \n",
    "#ve test ve control grubundaki dataları farklı değişkenlere atamış olduk. "
   ]
  },
  {
   "cell_type": "code",
   "execution_count": 46,
   "id": "00335b53",
   "metadata": {},
   "outputs": [
    {
     "data": {
      "text/html": [
       "<div>\n",
       "<style scoped>\n",
       "    .dataframe tbody tr th:only-of-type {\n",
       "        vertical-align: middle;\n",
       "    }\n",
       "\n",
       "    .dataframe tbody tr th {\n",
       "        vertical-align: top;\n",
       "    }\n",
       "\n",
       "    .dataframe thead th {\n",
       "        text-align: right;\n",
       "    }\n",
       "</style>\n",
       "<table border=\"1\" class=\"dataframe\">\n",
       "  <thead>\n",
       "    <tr style=\"text-align: right;\">\n",
       "      <th></th>\n",
       "      <th>Campaign Name</th>\n",
       "      <th>Spend_USD</th>\n",
       "      <th>Number of Impressions</th>\n",
       "      <th>Reach</th>\n",
       "      <th>Number of Website Clicks</th>\n",
       "      <th>Number of Searches</th>\n",
       "      <th>Number of View Content</th>\n",
       "      <th>Number of Add to Cart</th>\n",
       "      <th>Number of Purchase</th>\n",
       "      <th>USD Spend per Purchase</th>\n",
       "      <th>CTR(%)</th>\n",
       "      <th>Conversion Rate(%)</th>\n",
       "      <th>Add to Cart Rate(%)</th>\n",
       "    </tr>\n",
       "  </thead>\n",
       "  <tbody>\n",
       "    <tr>\n",
       "      <th>30</th>\n",
       "      <td>0</td>\n",
       "      <td>2280.0</td>\n",
       "      <td>82702.000000</td>\n",
       "      <td>56930.000000</td>\n",
       "      <td>7016.000000</td>\n",
       "      <td>2290.000000</td>\n",
       "      <td>2159.000000</td>\n",
       "      <td>1819.00000</td>\n",
       "      <td>618.000000</td>\n",
       "      <td>3.69</td>\n",
       "      <td>8.48</td>\n",
       "      <td>8.81</td>\n",
       "      <td>33.97</td>\n",
       "    </tr>\n",
       "    <tr>\n",
       "      <th>31</th>\n",
       "      <td>0</td>\n",
       "      <td>1757.0</td>\n",
       "      <td>121040.000000</td>\n",
       "      <td>102513.000000</td>\n",
       "      <td>8110.000000</td>\n",
       "      <td>2033.000000</td>\n",
       "      <td>1841.000000</td>\n",
       "      <td>1219.00000</td>\n",
       "      <td>511.000000</td>\n",
       "      <td>3.44</td>\n",
       "      <td>6.70</td>\n",
       "      <td>6.30</td>\n",
       "      <td>41.92</td>\n",
       "    </tr>\n",
       "    <tr>\n",
       "      <th>32</th>\n",
       "      <td>0</td>\n",
       "      <td>2343.0</td>\n",
       "      <td>131711.000000</td>\n",
       "      <td>110862.000000</td>\n",
       "      <td>6508.000000</td>\n",
       "      <td>1737.000000</td>\n",
       "      <td>1549.000000</td>\n",
       "      <td>1134.00000</td>\n",
       "      <td>372.000000</td>\n",
       "      <td>6.30</td>\n",
       "      <td>4.94</td>\n",
       "      <td>5.72</td>\n",
       "      <td>32.80</td>\n",
       "    </tr>\n",
       "    <tr>\n",
       "      <th>33</th>\n",
       "      <td>0</td>\n",
       "      <td>1940.0</td>\n",
       "      <td>72878.000000</td>\n",
       "      <td>61235.000000</td>\n",
       "      <td>3065.000000</td>\n",
       "      <td>1042.000000</td>\n",
       "      <td>982.000000</td>\n",
       "      <td>1183.00000</td>\n",
       "      <td>340.000000</td>\n",
       "      <td>5.71</td>\n",
       "      <td>4.21</td>\n",
       "      <td>11.09</td>\n",
       "      <td>28.74</td>\n",
       "    </tr>\n",
       "    <tr>\n",
       "      <th>34</th>\n",
       "      <td>0</td>\n",
       "      <td>1835.0</td>\n",
       "      <td>99328.079583</td>\n",
       "      <td>80183.346166</td>\n",
       "      <td>5733.358353</td>\n",
       "      <td>2147.197568</td>\n",
       "      <td>1943.443727</td>\n",
       "      <td>1363.53056</td>\n",
       "      <td>598.735991</td>\n",
       "      <td>3.06</td>\n",
       "      <td>5.77</td>\n",
       "      <td>10.44</td>\n",
       "      <td>43.91</td>\n",
       "    </tr>\n",
       "  </tbody>\n",
       "</table>\n",
       "</div>"
      ],
      "text/plain": [
       "    Campaign Name  Spend_USD  Number of Impressions          Reach  \\\n",
       "30              0     2280.0           82702.000000   56930.000000   \n",
       "31              0     1757.0          121040.000000  102513.000000   \n",
       "32              0     2343.0          131711.000000  110862.000000   \n",
       "33              0     1940.0           72878.000000   61235.000000   \n",
       "34              0     1835.0           99328.079583   80183.346166   \n",
       "\n",
       "    Number of Website Clicks  Number of Searches  Number of View Content  \\\n",
       "30               7016.000000         2290.000000             2159.000000   \n",
       "31               8110.000000         2033.000000             1841.000000   \n",
       "32               6508.000000         1737.000000             1549.000000   \n",
       "33               3065.000000         1042.000000              982.000000   \n",
       "34               5733.358353         2147.197568             1943.443727   \n",
       "\n",
       "    Number of Add to Cart  Number of Purchase  USD Spend per Purchase  CTR(%)  \\\n",
       "30             1819.00000          618.000000                    3.69    8.48   \n",
       "31             1219.00000          511.000000                    3.44    6.70   \n",
       "32             1134.00000          372.000000                    6.30    4.94   \n",
       "33             1183.00000          340.000000                    5.71    4.21   \n",
       "34             1363.53056          598.735991                    3.06    5.77   \n",
       "\n",
       "    Conversion Rate(%)  Add to Cart Rate(%)  \n",
       "30                8.81                33.97  \n",
       "31                6.30                41.92  \n",
       "32                5.72                32.80  \n",
       "33               11.09                28.74  \n",
       "34               10.44                43.91  "
      ]
     },
     "execution_count": 46,
     "metadata": {},
     "output_type": "execute_result"
    }
   ],
   "source": [
    "control_g.head()"
   ]
  },
  {
   "cell_type": "code",
   "execution_count": 47,
   "id": "62ae77f9",
   "metadata": {},
   "outputs": [
    {
     "data": {
      "text/plain": [
       "count    30.000000\n",
       "mean      9.230667\n",
       "std       4.449266\n",
       "min       3.010000\n",
       "25%       6.570000\n",
       "50%       8.450000\n",
       "75%      11.667500\n",
       "max      21.090000\n",
       "Name: Conversion Rate(%), dtype: float64"
      ]
     },
     "execution_count": 47,
     "metadata": {},
     "output_type": "execute_result"
    }
   ],
   "source": [
    "test_group = test_g['Conversion Rate(%)']\n",
    "control_group = control_g['Conversion Rate(%)']\n",
    "test_group.describe()"
   ]
  },
  {
   "cell_type": "code",
   "execution_count": 48,
   "id": "ce0195d7",
   "metadata": {},
   "outputs": [
    {
     "data": {
      "text/plain": [
       "0     8.39\n",
       "1    14.54\n",
       "2     7.33\n",
       "3     8.06\n",
       "4    13.10\n",
       "Name: Conversion Rate(%), dtype: float64"
      ]
     },
     "execution_count": 48,
     "metadata": {},
     "output_type": "execute_result"
    }
   ],
   "source": [
    "test_group.head()"
   ]
  },
  {
   "cell_type": "code",
   "execution_count": 49,
   "id": "3862fb9b",
   "metadata": {},
   "outputs": [
    {
     "data": {
      "text/plain": [
       "<matplotlib.legend.Legend at 0x1c396069a00>"
      ]
     },
     "execution_count": 49,
     "metadata": {},
     "output_type": "execute_result"
    },
    {
     "data": {
      "image/png": "[encoded data removed]",
      "text/plain": [
       "<Figure size 1440x720 with 1 Axes>"
      ]
     },
     "metadata": {},
     "output_type": "display_data"
    }
   ],
   "source": [
    "plt.figure(figsize=(20, 10))\n",
    "sns.kdeplot(control_group, label=\"Control\", shade = True, color = '#000000')\n",
    "sns.kdeplot(test_group, label=\"Test\", shade = True, color = '#B22222')\n",
    "plt.legend()"
   ]
  },
  {
   "cell_type": "code",
   "execution_count": null,
   "id": "5afcf34e",
   "metadata": {},
   "outputs": [],
   "source": [
    "#Test grubunda müşteri davranışları daha benzer hale gelmiş durumda. ortalamalar aynı. control grubunda biraz daha uç data var. "
   ]
  },
  {
   "cell_type": "code",
   "execution_count": 50,
   "id": "c5eeb7e5",
   "metadata": {},
   "outputs": [
    {
     "name": "stderr",
     "output_type": "stream",
     "text": [
      "C:\\Users\\TOYGAR\\anaconda3\\lib\\site-packages\\seaborn\\_decorators.py:36: FutureWarning: Pass the following variable as a keyword arg: x. From version 0.12, the only valid positional argument will be `data`, and passing other arguments without an explicit keyword will result in an error or misinterpretation.\n",
      "  warnings.warn(\n"
     ]
    },
    {
     "data": {
      "text/plain": [
       "<AxesSubplot:xlabel='Conversion Rate(%)'>"
      ]
     },
     "execution_count": 50,
     "metadata": {},
     "output_type": "execute_result"
    },
    {
     "data": {
      "image/png": "[encoded data removed]",
      "text/plain": [
       "<Figure size 432x288 with 1 Axes>"
      ]
     },
     "metadata": {},
     "output_type": "display_data"
    }
   ],
   "source": [
    "sns.boxplot(df['Conversion Rate(%)'])"
   ]
  },
  {
   "cell_type": "code",
   "execution_count": 70,
   "id": "7a86e812",
   "metadata": {},
   "outputs": [],
   "source": [
    "#karışım datasetinin Boxplot grafiği. medyan 8 gibi duruyor. 2 tane outlier data var gibi duruyor.  "
   ]
  },
  {
   "cell_type": "code",
   "execution_count": 51,
   "id": "86b55517",
   "metadata": {},
   "outputs": [
    {
     "name": "stdout",
     "output_type": "stream",
     "text": [
      "(array([39, 41], dtype=int64),)\n"
     ]
    }
   ],
   "source": [
    "print(np.where(df['Conversion Rate(%)']>25))"
   ]
  },
  {
   "cell_type": "code",
   "execution_count": 52,
   "id": "90913502",
   "metadata": {},
   "outputs": [],
   "source": [
    "#remove the outliers\n",
    "df_3 = df_2[df_2['Conversion Rate(%)']<25]\n",
    "test_g = df_3[df_3['Campaign Name']==1]\n",
    "control_g = df_3[df_3['Campaign Name']==0]\n",
    "test_group = test_g['Conversion Rate(%)']\n",
    "control_group = control_g['Conversion Rate(%)']"
   ]
  },
  {
   "cell_type": "code",
   "execution_count": null,
   "id": "2fa203f5",
   "metadata": {},
   "outputs": [],
   "source": [
    "#burada outlier data temizlendikten sonra tekrar atama yapıldı. makalede bu kısım atlanmış olacak. outlierlar ilk başta temizlenecek. varyansları çok yakın hale geldi. böylece AB test uygularken we can perform a standard independent 2 sample test. "
   ]
  },
  {
   "cell_type": "code",
   "execution_count": 73,
   "id": "561ff0da",
   "metadata": {},
   "outputs": [
    {
     "data": {
      "text/plain": [
       "<matplotlib.legend.Legend at 0x15060c83048>"
      ]
     },
     "execution_count": 73,
     "metadata": {},
     "output_type": "execute_result"
    },
    {
     "data": {
      "image/png": "[encoded data removed]",
      "text/plain": [
       "<Figure size 1440x720 with 1 Axes>"
      ]
     },
     "metadata": {},
     "output_type": "display_data"
    }
   ],
   "source": [
    "#now plot the data distribution again\n",
    "plt.figure(figsize=(20, 10))\n",
    "sns.kdeplot(control_group, label=\"Control\", shade = True, color = '#000000')\n",
    "sns.kdeplot(test_group, label=\"Test\", shade = True, color = '#B22222')\n",
    "plt.legend()"
   ]
  },
  {
   "cell_type": "code",
   "execution_count": null,
   "id": "ab99fab8",
   "metadata": {},
   "outputs": [],
   "source": [
    "#grafiğin düzelmiş hali"
   ]
  },
  {
   "cell_type": "code",
   "execution_count": 41,
   "id": "fc0d4b03",
   "metadata": {},
   "outputs": [
    {
     "name": "stdout",
     "output_type": "stream",
     "text": [
      "Ttest_indResult(statistic=-1.5031669929247424, pvalue=0.13904682661222434)\n"
     ]
    }
   ],
   "source": [
    "## H0: A = B  - Null Hypothesis\n",
    "## H1: A != B  - Alternative Hypothesis\n",
    "# set ⍺ = 0.05\n",
    "test = stats.ttest_ind(test_group,control_group, equal_var = True)\n",
    "\n",
    "print(test)"
   ]
  },
  {
   "cell_type": "code",
   "execution_count": 77,
   "id": "0c11a424",
   "metadata": {
    "collapsed": true
   },
   "outputs": [
    {
     "data": {
      "text/plain": [
       "0      8.39\n",
       "1     14.54\n",
       "2      7.33\n",
       "3      8.06\n",
       "4     13.10\n",
       "5      6.52\n",
       "6     21.09\n",
       "7      6.00\n",
       "8     10.23\n",
       "9      3.38\n",
       "10    17.81\n",
       "11     8.58\n",
       "12    10.73\n",
       "13     8.51\n",
       "14     7.97\n",
       "15     7.16\n",
       "16     3.01\n",
       "17     3.72\n",
       "18     6.72\n",
       "19    12.07\n",
       "20     4.48\n",
       "21     6.23\n",
       "22     9.32\n",
       "23     3.76\n",
       "24    18.10\n",
       "25     7.43\n",
       "26    11.98\n",
       "27     8.85\n",
       "28     8.85\n",
       "29    13.00\n",
       "Name: Conversion Rate(%), dtype: float64"
      ]
     },
     "execution_count": 77,
     "metadata": {},
     "output_type": "execute_result"
    }
   ],
   "source": [
    "test_group"
   ]
  },
  {
   "cell_type": "code",
   "execution_count": 76,
   "id": "465ab89d",
   "metadata": {
    "collapsed": true
   },
   "outputs": [
    {
     "data": {
      "text/plain": [
       "30     8.81\n",
       "31     6.30\n",
       "32     5.72\n",
       "33    11.09\n",
       "34    10.44\n",
       "Name: Conversion Rate(%), dtype: float64"
      ]
     },
     "execution_count": 76,
     "metadata": {},
     "output_type": "execute_result"
    }
   ],
   "source": [
    "control_group.head()"
   ]
  },
  {
   "cell_type": "code",
   "execution_count": null,
   "id": "06f1a7aa",
   "metadata": {},
   "outputs": [],
   "source": [
    "# https://towardsdatascience.com/hypothesis-testing-a-b-tests-explained-4d89de6b4ad2\n",
    "# \n",
    "\n",
    "#CTR reklam başarısını gösterir. conversion rate bidding type'ındaki değişmenin başarısını gösteriyor.\n"
   ]
  },
  {
   "cell_type": "code",
   "execution_count": null,
   "id": "4c38c768",
   "metadata": {},
   "outputs": [],
   "source": [
    "df['USD Spend per Purchase'] "
   ]
  },
  {
   "cell_type": "code",
   "execution_count": 34,
   "id": "7dcfdcb5",
   "metadata": {},
   "outputs": [
    {
     "name": "stdout",
     "output_type": "stream",
     "text": [
      "Ttest_indResult(statistic=3.971701992126102, pvalue=0.00019951456015415063)\n"
     ]
    }
   ],
   "source": [
    "\n",
    "#CTR(%) A/B TEST\n",
    "df_2 = df.copy()\n",
    "df_2 = df_2.drop(['index','Date'], axis=1)\n",
    "df_2 = df_2.reset_index(drop=True)\n",
    "\n",
    "test_g = df_2[df_2['Campaign Name']==\"Test Campaign\"]\n",
    "control_g = df_2[df_2['Campaign Name']==\"Control Campaign\"]\n",
    "\n",
    "test_group_CTR = test_g['CTR(%)']\n",
    "control_group_CTR = control_g['CTR(%)']\n",
    "\n",
    "\n",
    "test_CTR = stats.ttest_ind(test_group_CTR,control_group_CTR, equal_var = True)\n",
    "\n",
    "print(test_CTR)"
   ]
  },
  {
   "cell_type": "code",
   "execution_count": 24,
   "id": "9d0b804c",
   "metadata": {},
   "outputs": [
    {
     "ename": "NameError",
     "evalue": "name 'test_g' is not defined",
     "output_type": "error",
     "traceback": [
      "\u001b[1;31m---------------------------------------------------------------------------\u001b[0m",
      "\u001b[1;31mNameError\u001b[0m                                 Traceback (most recent call last)",
      "Input \u001b[1;32mIn [24]\u001b[0m, in \u001b[0;36m<cell line: 1>\u001b[1;34m()\u001b[0m\n\u001b[1;32m----> 1\u001b[0m \u001b[43mtest_g\u001b[49m\u001b[38;5;241m.\u001b[39mhead()\n",
      "\u001b[1;31mNameError\u001b[0m: name 'test_g' is not defined"
     ]
    }
   ],
   "source": [
    "test_g.head()"
   ]
  },
  {
   "cell_type": "code",
   "execution_count": null,
   "id": "9e17a0f1",
   "metadata": {},
   "outputs": [],
   "source": [
    "\n",
    "df['Add to Cart Rate(%)'] = round(df['Number of Purchase']*100/df['Number of Add to Cart'],2)"
   ]
  }
 ],
 "metadata": {
  "kernelspec": {
   "display_name": "Python 3 (ipykernel)",
   "language": "python",
   "name": "python3"
  },
  "language_info": {
   "codemirror_mode": {
    "name": "ipython",
    "version": 3
   },
   "file_extension": ".py",
   "mimetype": "text/x-python",
   "name": "python",
   "nbconvert_exporter": "python",
   "pygments_lexer": "ipython3",
   "version": "3.9.12"
  }
 },
 "nbformat": 4,
 "nbformat_minor": 5
}
